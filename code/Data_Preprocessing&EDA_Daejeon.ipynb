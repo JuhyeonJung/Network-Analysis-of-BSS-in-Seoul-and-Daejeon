{
 "cells": [
  {
   "cell_type": "code",
   "execution_count": 1,
   "metadata": {},
   "outputs": [],
   "source": [
    "import numpy as np\n",
    "import pandas as pd\n",
    "import matplotlib.pyplot as plt\n",
    "import seaborn as sns\n",
    "import pickle\n",
    "from datetime import datetime"
   ]
  },
  {
   "cell_type": "markdown",
   "metadata": {},
   "source": [
    "### 데이터 로드"
   ]
  },
  {
   "cell_type": "code",
   "execution_count": 2,
   "metadata": {},
   "outputs": [],
   "source": [
    "df19 = pd.read_csv('../data/daejeon/2019.csv')\n",
    "df20 = pd.read_csv('../data/daejeon/2020.csv',encoding='cp949')\n",
    "df21 = pd.read_csv('../data/daejeon/2021.csv')\n",
    "df22 = pd.read_csv('../data/daejeon/2022(5월말까지).csv')\n",
    "\n",
    "df19.columns = ['rent_id','rent_time','return_id','return_time','travel_distance','fare']\n",
    "df20.columns = ['rent_id','rent_time','return_id','return_time','travel_distance','fare']\n",
    "df21.columns = ['rent_id','rent_time','return_id','return_time','travel_distance','fare']\n",
    "df22.columns = ['rent_id','rent_time','return_id','return_time','travel_distance','fare']\n",
    "# fare : 00 : 정회원 / 01 : 일반회원 / 02 : 비회원"
   ]
  },
  {
   "cell_type": "code",
   "execution_count": 3,
   "metadata": {},
   "outputs": [],
   "source": [
    "df19['rent_time'] = pd.to_datetime(df19['rent_time'],format='%Y%m%d%H%M%S')\n",
    "df19['return_time'] = pd.to_datetime(df19['return_time'],format='%Y%m%d%H%M%S')\n",
    "df20['rent_time'] = pd.to_datetime(df20['rent_time'],format='%Y%m%d%H%M%S')\n",
    "df20['return_time'] = pd.to_datetime(df20['return_time'],format='%Y%m%d%H%M%S')\n",
    "df21['rent_time'] = pd.to_datetime(df21['rent_time'],format='%Y%m%d%H%M%S')\n",
    "df21['return_time'] = pd.to_datetime(df21['return_time'],format='%Y%m%d%H%M%S')\n",
    "df22['rent_time'] = pd.to_datetime(df22['rent_time'],format='%Y%m%d%H%M%S')\n",
    "df22['return_time'] = pd.to_datetime(df22['return_time'],format='%Y%m%d%H%M%S')"
   ]
  },
  {
   "cell_type": "code",
   "execution_count": 4,
   "metadata": {},
   "outputs": [],
   "source": [
    "#null값 제거하기\n",
    "df19.dropna(subset = ['return_id'],inplace=True)\n",
    "df20.dropna(subset = ['return_id'],inplace=True)\n",
    "df21.dropna(subset = ['rent_id','return_id'],inplace=True)\n",
    "df22.dropna(subset = ['return_id'],inplace=True)"
   ]
  },
  {
   "cell_type": "code",
   "execution_count": 5,
   "metadata": {},
   "outputs": [],
   "source": [
    "# 형태 맞추기\n",
    "df21['rent_id'] = df21['rent_id'].astype('int')\n",
    "df19['return_id'] = df19['return_id'].astype('int')\n",
    "df20['return_id'] = df20['return_id'].astype('int')\n",
    "df21['return_id'] = df21['return_id'].astype('int')"
   ]
  },
  {
   "cell_type": "code",
   "execution_count": 8,
   "metadata": {},
   "outputs": [
    {
     "data": {
      "text/html": [
       "<div>\n",
       "<style scoped>\n",
       "    .dataframe tbody tr th:only-of-type {\n",
       "        vertical-align: middle;\n",
       "    }\n",
       "\n",
       "    .dataframe tbody tr th {\n",
       "        vertical-align: top;\n",
       "    }\n",
       "\n",
       "    .dataframe thead th {\n",
       "        text-align: right;\n",
       "    }\n",
       "</style>\n",
       "<table border=\"1\" class=\"dataframe\">\n",
       "  <thead>\n",
       "    <tr style=\"text-align: right;\">\n",
       "      <th></th>\n",
       "      <th>rent_id</th>\n",
       "      <th>rent_time</th>\n",
       "      <th>return_id</th>\n",
       "      <th>return_time</th>\n",
       "      <th>travel_distance</th>\n",
       "      <th>fare</th>\n",
       "    </tr>\n",
       "  </thead>\n",
       "  <tbody>\n",
       "    <tr>\n",
       "      <th>0</th>\n",
       "      <td>185</td>\n",
       "      <td>2019-01-01 00:00:02</td>\n",
       "      <td>185</td>\n",
       "      <td>2019-01-01 01:16:08</td>\n",
       "      <td>0.0</td>\n",
       "      <td>2</td>\n",
       "    </tr>\n",
       "    <tr>\n",
       "      <th>1</th>\n",
       "      <td>29</td>\n",
       "      <td>2019-01-01 00:01:11</td>\n",
       "      <td>29</td>\n",
       "      <td>2019-01-01 00:15:05</td>\n",
       "      <td>530.0</td>\n",
       "      <td>2</td>\n",
       "    </tr>\n",
       "    <tr>\n",
       "      <th>2</th>\n",
       "      <td>60</td>\n",
       "      <td>2019-01-01 00:02:12</td>\n",
       "      <td>66</td>\n",
       "      <td>2019-01-01 00:10:46</td>\n",
       "      <td>540.0</td>\n",
       "      <td>2</td>\n",
       "    </tr>\n",
       "    <tr>\n",
       "      <th>3</th>\n",
       "      <td>208</td>\n",
       "      <td>2019-01-01 05:03:36</td>\n",
       "      <td>244</td>\n",
       "      <td>2019-01-01 05:53:30</td>\n",
       "      <td>3130.0</td>\n",
       "      <td>2</td>\n",
       "    </tr>\n",
       "    <tr>\n",
       "      <th>4</th>\n",
       "      <td>208</td>\n",
       "      <td>2019-01-01 05:04:21</td>\n",
       "      <td>244</td>\n",
       "      <td>2019-01-01 05:53:13</td>\n",
       "      <td>3140.0</td>\n",
       "      <td>0</td>\n",
       "    </tr>\n",
       "  </tbody>\n",
       "</table>\n",
       "</div>"
      ],
      "text/plain": [
       "   rent_id           rent_time  return_id         return_time  \\\n",
       "0      185 2019-01-01 00:00:02        185 2019-01-01 01:16:08   \n",
       "1       29 2019-01-01 00:01:11         29 2019-01-01 00:15:05   \n",
       "2       60 2019-01-01 00:02:12         66 2019-01-01 00:10:46   \n",
       "3      208 2019-01-01 05:03:36        244 2019-01-01 05:53:30   \n",
       "4      208 2019-01-01 05:04:21        244 2019-01-01 05:53:13   \n",
       "\n",
       "   travel_distance  fare  \n",
       "0              0.0     2  \n",
       "1            530.0     2  \n",
       "2            540.0     2  \n",
       "3           3130.0     2  \n",
       "4           3140.0     0  "
      ]
     },
     "execution_count": 8,
     "metadata": {},
     "output_type": "execute_result"
    }
   ],
   "source": [
    "df19.head()"
   ]
  },
  {
   "cell_type": "code",
   "execution_count": 6,
   "metadata": {},
   "outputs": [],
   "source": [
    "def remove_sta(df):\n",
    "    df = df[(df['rent_id'] != 0) & (df['return_id'] != 0)] # 0번은 인식되지 않은 대여소를 의미\n",
    "    df = df[~((df['rent_id'] == df['return_id']) & ((df21['return_time'] - df21['rent_time']).dt.seconds<120))]\n",
    "    df.reset_index(drop=True,inplace=True)# 19,20년도는 정제안되어있더라..!\n",
    "    return df"
   ]
  },
  {
   "cell_type": "code",
   "execution_count": 7,
   "metadata": {},
   "outputs": [
    {
     "name": "stderr",
     "output_type": "stream",
     "text": [
      "<ipython-input-6-40482b520bec>:3: UserWarning: Boolean Series key will be reindexed to match DataFrame index.\n",
      "  df = df[~((df['rent_id'] == df['return_id']) & ((df21['return_time'] - df21['rent_time']).dt.seconds<120))]\n"
     ]
    }
   ],
   "source": [
    "df19 = remove_sta(df19)\n",
    "df20 = remove_sta(df20)\n",
    "df21 = remove_sta(df21)\n",
    "df22 = remove_sta(df22)"
   ]
  },
  {
   "cell_type": "markdown",
   "metadata": {},
   "source": [
    "대여소 정보 추가"
   ]
  },
  {
   "cell_type": "code",
   "execution_count": 12,
   "metadata": {},
   "outputs": [],
   "source": [
    "sta_info = pd.read_csv('../data/daejeon/타슈 대여소정보_220601v2.csv')"
   ]
  },
  {
   "cell_type": "code",
   "execution_count": 13,
   "metadata": {
    "scrolled": true
   },
   "outputs": [
    {
     "data": {
      "text/html": [
       "<div>\n",
       "<style scoped>\n",
       "    .dataframe tbody tr th:only-of-type {\n",
       "        vertical-align: middle;\n",
       "    }\n",
       "\n",
       "    .dataframe tbody tr th {\n",
       "        vertical-align: top;\n",
       "    }\n",
       "\n",
       "    .dataframe thead th {\n",
       "        text-align: right;\n",
       "    }\n",
       "</style>\n",
       "<table border=\"1\" class=\"dataframe\">\n",
       "  <thead>\n",
       "    <tr style=\"text-align: right;\">\n",
       "      <th></th>\n",
       "      <th>ID</th>\n",
       "      <th>stationName</th>\n",
       "      <th>Y</th>\n",
       "      <th>X</th>\n",
       "      <th>start_date</th>\n",
       "      <th>end_date</th>\n",
       "      <th>Xn</th>\n",
       "      <th>Yn</th>\n",
       "      <th>Elev</th>\n",
       "    </tr>\n",
       "  </thead>\n",
       "  <tbody>\n",
       "    <tr>\n",
       "      <th>0</th>\n",
       "      <td>1</td>\n",
       "      <td>무역전시관입구(택시승강장)</td>\n",
       "      <td>36.374380</td>\n",
       "      <td>127.387331</td>\n",
       "      <td>2019-07-08</td>\n",
       "      <td>2022-05-31</td>\n",
       "      <td>989893.621616</td>\n",
       "      <td>1.819665e+06</td>\n",
       "      <td>44.490215</td>\n",
       "    </tr>\n",
       "    <tr>\n",
       "      <th>1</th>\n",
       "      <td>2</td>\n",
       "      <td>대전컨벤션센터</td>\n",
       "      <td>36.374389</td>\n",
       "      <td>127.392375</td>\n",
       "      <td>2019-01-01</td>\n",
       "      <td>2022-06-01</td>\n",
       "      <td>990346.068308</td>\n",
       "      <td>1.819665e+06</td>\n",
       "      <td>41.869499</td>\n",
       "    </tr>\n",
       "    <tr>\n",
       "      <th>2</th>\n",
       "      <td>3</td>\n",
       "      <td>한밭수목원1</td>\n",
       "      <td>36.368995</td>\n",
       "      <td>127.388451</td>\n",
       "      <td>2019-01-01</td>\n",
       "      <td>2022-06-01</td>\n",
       "      <td>989993.395718</td>\n",
       "      <td>1.819067e+06</td>\n",
       "      <td>40.563755</td>\n",
       "    </tr>\n",
       "    <tr>\n",
       "      <th>3</th>\n",
       "      <td>4</td>\n",
       "      <td>초원아파트(104동 버스정류장)</td>\n",
       "      <td>36.367945</td>\n",
       "      <td>127.379302</td>\n",
       "      <td>2019-01-01</td>\n",
       "      <td>2022-05-31</td>\n",
       "      <td>989172.530535</td>\n",
       "      <td>1.818952e+06</td>\n",
       "      <td>45.611195</td>\n",
       "    </tr>\n",
       "    <tr>\n",
       "      <th>4</th>\n",
       "      <td>5</td>\n",
       "      <td>둔산대공원 입구(버스정류장)</td>\n",
       "      <td>36.364974</td>\n",
       "      <td>127.388856</td>\n",
       "      <td>2019-01-01</td>\n",
       "      <td>2022-05-31</td>\n",
       "      <td>990029.213603</td>\n",
       "      <td>1.818621e+06</td>\n",
       "      <td>40.136238</td>\n",
       "    </tr>\n",
       "  </tbody>\n",
       "</table>\n",
       "</div>"
      ],
      "text/plain": [
       "   ID        stationName          Y           X  start_date    end_date  \\\n",
       "0   1     무역전시관입구(택시승강장)  36.374380  127.387331  2019-07-08  2022-05-31   \n",
       "1   2            대전컨벤션센터  36.374389  127.392375  2019-01-01  2022-06-01   \n",
       "2   3             한밭수목원1  36.368995  127.388451  2019-01-01  2022-06-01   \n",
       "3   4  초원아파트(104동 버스정류장)  36.367945  127.379302  2019-01-01  2022-05-31   \n",
       "4   5    둔산대공원 입구(버스정류장)  36.364974  127.388856  2019-01-01  2022-05-31   \n",
       "\n",
       "              Xn            Yn       Elev  \n",
       "0  989893.621616  1.819665e+06  44.490215  \n",
       "1  990346.068308  1.819665e+06  41.869499  \n",
       "2  989993.395718  1.819067e+06  40.563755  \n",
       "3  989172.530535  1.818952e+06  45.611195  \n",
       "4  990029.213603  1.818621e+06  40.136238  "
      ]
     },
     "execution_count": 13,
     "metadata": {},
     "output_type": "execute_result"
    }
   ],
   "source": [
    "sta_info.head()"
   ]
  },
  {
   "cell_type": "markdown",
   "metadata": {},
   "source": [
    "---\n",
    "### 전처리"
   ]
  },
  {
   "cell_type": "code",
   "execution_count": 14,
   "metadata": {},
   "outputs": [],
   "source": [
    "#월 column 추가\n",
    "df20['month'] = df20['rent_time'].dt.month\n",
    "df19['month'] = df19['rent_time'].dt.month\n",
    "\n",
    "#요일 column 추가 (월, 1 : 화, 2 : 수, 3 : 목, 4 : 금, 5 : 토, 6 : 일)\n",
    "df20['weekday'] = df20['rent_time'].dt.weekday\n",
    "df19['weekday'] = df19['rent_time'].dt.weekday\n",
    "\n",
    "#시간 column 추가\n",
    "df20['hour'] = df20['rent_time'].dt.hour\n",
    "df19['hour'] = df19['rent_time'].dt.hour\n",
    "\n",
    "#일\n",
    "df20['day'] = df20['rent_time'].dt.day\n",
    "df19['day'] = df19['rent_time'].dt.day"
   ]
  },
  {
   "cell_type": "code",
   "execution_count": 15,
   "metadata": {},
   "outputs": [],
   "source": [
    "df19['return_id'] = df19['return_id'].astype('int')\n",
    "df20['return_id'] = df20['return_id'].astype('int')"
   ]
  },
  {
   "cell_type": "code",
   "execution_count": 16,
   "metadata": {},
   "outputs": [],
   "source": [
    "df19['travel_time'] = (df19['return_time'] - df19['rent_time']).apply(lambda x : x.seconds)\n",
    "df20['travel_time'] = (df20['return_time'] - df20['rent_time']).apply(lambda x : x.seconds)"
   ]
  },
  {
   "cell_type": "markdown",
   "metadata": {},
   "source": [
    "#### 기준에 맞추어 데이터 제거\n",
    "타슈 특징 : 12 ~ 2월은 대여 05~24시만 가능, 반납은 모든시간대 가능  \n",
    "몇시간 이상이면 도난/분실로 간주하는지는 정확한 시간이 명시되어있지 않음 (6시간으로 설정하겠음)  "
   ]
  },
  {
   "cell_type": "code",
   "execution_count": 17,
   "metadata": {},
   "outputs": [],
   "source": [
    "df19 = df19[(df19['travel_time']>=60) & (df19['travel_time']<=21600)]\n",
    "df20 = df20[(df20['travel_time']>=60) & (df20['travel_time']<=21600)]"
   ]
  },
  {
   "cell_type": "markdown",
   "metadata": {},
   "source": [
    "#### 공휴일&주말 / 주중으로 데이터 분리"
   ]
  },
  {
   "cell_type": "code",
   "execution_count": 18,
   "metadata": {},
   "outputs": [],
   "source": [
    "def hol_wek_19(df19):\n",
    "    # 2019년 공휴일 따로 빼줌..\n",
    "    df19_hol = df19[((df19['month']==1) & (df19['day']==1)) | ((df19['month']==2) & (df19['day']==4))\n",
    "                | ((df19['month']==2) & (df19['day']==5)) | ((df19['month']==2) & (df19['day']==6))\n",
    "                | ((df19['month']==3) & (df19['day']==1)) | ((df19['month']==6) & (df19['day']==6))\n",
    "                | ((df19['month']==8) & (df19['day']==15)) | ((df19['month']==9) & (df19['day']==12))\n",
    "                | ((df19['month']==9) & (df19['day']==13)) | ((df19['month']==10) & (df19['day']==3))\n",
    "                | ((df19['month']==10) & (df19['day']==9)) | ((df19['month']==12) & (df19['day']==25)) | (df19['weekday']>=5)]\n",
    "    \n",
    "    df19_wek = df19.drop(df19_hol.index)\n",
    "    \n",
    "    return df19_hol, df19_wek\n",
    "\n",
    "def hol_wek_20(df20):\n",
    "    # 2020년 공휴일 따로 빼줌..\n",
    "    df20_hol = df20[((df20['month']==1) & (df20['day']==1)) | ((df20['month']==1) & (df20['day']==24)) \n",
    "     | ((df20['month']==1) & (df20['day']==27)) | ((df20['month']==4) & (df20['day']==30)) \n",
    "     | ((df20['month']==5) & (df20['day']==5)) | ((df20['month']==8) & (df20['day']==17)) \n",
    "     | ((df20['month']==9) & (df20['day']==30)) | ((df20['month']==10) & (df20['day']==1)) \n",
    "     | ((df20['month']==10) & (df20['day']==2)) | ((df20['month']==10) & (df20['day']==9)) \n",
    "     | ((df20['month']==12) & (df20['day']==25)) | (df20['weekday']>=5)]\n",
    "    \n",
    "    df20_wek = df20.drop(df20_hol.index)\n",
    "    \n",
    "    return df20_hol, df20_wek"
   ]
  },
  {
   "cell_type": "code",
   "execution_count": 19,
   "metadata": {},
   "outputs": [],
   "source": [
    "df19_hol, df19_wek = hol_wek_19(df19)\n",
    "df20_hol, df20_wek = hol_wek_20(df20)"
   ]
  },
  {
   "cell_type": "code",
   "execution_count": null,
   "metadata": {},
   "outputs": [],
   "source": [
    "# df19_hol.to_csv('../data/daejeon/df19_hol.csv',index=None)\n",
    "# df19_wek.to_csv('../data/daejeon/df19_wek.csv',index=None)\n",
    "\n",
    "# df20_hol.to_csv('../data/daejeon/df20_hol.csv',index=None)\n",
    "# df20_wek.to_csv('../data/daejeon/df20_wek.csv',index=None)"
   ]
  },
  {
   "cell_type": "markdown",
   "metadata": {},
   "source": [
    "이용량"
   ]
  },
  {
   "cell_type": "code",
   "execution_count": 20,
   "metadata": {},
   "outputs": [
    {
     "data": {
      "text/plain": [
       "([<matplotlib.axis.XTick at 0x1f7b88a0100>,\n",
       "  <matplotlib.axis.XTick at 0x1f7b88a00d0>],\n",
       " [Text(0, 0, '19'), Text(1, 0, '20')])"
      ]
     },
     "execution_count": 20,
     "metadata": {},
     "output_type": "execute_result"
    },
    {
     "data": {
      "image/png": "[encoded data removed]",
      "text/plain": [
       "<Figure size 432x288 with 1 Axes>"
      ]
     },
     "metadata": {
      "needs_background": "light"
     },
     "output_type": "display_data"
    }
   ],
   "source": [
    "usage19 = len(df19_hol) + len(df19_wek)\n",
    "usage20 = len(df20_hol) + len(df20_wek)\n",
    "plt.bar(np.arange(2),[usage19,usage20])\n",
    "plt.xticks(np.arange(2),['19','20'])"
   ]
  },
  {
   "cell_type": "markdown",
   "metadata": {},
   "source": [
    "## 히트맵 그려보기\n",
    "#### 19 20년 비교"
   ]
  },
  {
   "cell_type": "code",
   "execution_count": 21,
   "metadata": {},
   "outputs": [],
   "source": [
    "#비율 계산 함수\n",
    "def Fare_valueRatio(df,a):\n",
    "    return pd.DataFrame(df[a].value_counts()).sort_index()/len(df)"
   ]
  },
  {
   "cell_type": "code",
   "execution_count": 22,
   "metadata": {},
   "outputs": [],
   "source": [
    "month7 = []\n",
    "for i in range(1,13):\n",
    "    for j in range(7):\n",
    "        month7.append(i)\n",
    "weekday12 = [x for x in range(1,8)]*12"
   ]
  },
  {
   "cell_type": "code",
   "execution_count": 23,
   "metadata": {},
   "outputs": [],
   "source": [
    "df19_gb = df19.groupby(['month','weekday']).size()"
   ]
  },
  {
   "cell_type": "code",
   "execution_count": 24,
   "metadata": {
    "scrolled": false
   },
   "outputs": [
    {
     "data": {
      "text/html": [
       "<div>\n",
       "<style scoped>\n",
       "    .dataframe tbody tr th:only-of-type {\n",
       "        vertical-align: middle;\n",
       "    }\n",
       "\n",
       "    .dataframe tbody tr th {\n",
       "        vertical-align: top;\n",
       "    }\n",
       "\n",
       "    .dataframe thead th {\n",
       "        text-align: right;\n",
       "    }\n",
       "</style>\n",
       "<table border=\"1\" class=\"dataframe\">\n",
       "  <thead>\n",
       "    <tr style=\"text-align: right;\">\n",
       "      <th>month</th>\n",
       "      <th>1</th>\n",
       "      <th>2</th>\n",
       "      <th>3</th>\n",
       "      <th>4</th>\n",
       "      <th>5</th>\n",
       "      <th>6</th>\n",
       "      <th>7</th>\n",
       "      <th>8</th>\n",
       "      <th>9</th>\n",
       "      <th>10</th>\n",
       "      <th>11</th>\n",
       "      <th>12</th>\n",
       "    </tr>\n",
       "  </thead>\n",
       "  <tbody>\n",
       "    <tr>\n",
       "      <th>Mon</th>\n",
       "      <td>1874</td>\n",
       "      <td>2190</td>\n",
       "      <td>3627</td>\n",
       "      <td>7046</td>\n",
       "      <td>6776</td>\n",
       "      <td>8951</td>\n",
       "      <td>10412</td>\n",
       "      <td>7591</td>\n",
       "      <td>8941</td>\n",
       "      <td>6169</td>\n",
       "      <td>4931</td>\n",
       "      <td>3676</td>\n",
       "    </tr>\n",
       "    <tr>\n",
       "      <th>Tue</th>\n",
       "      <td>2182</td>\n",
       "      <td>1655</td>\n",
       "      <td>3992</td>\n",
       "      <td>6604</td>\n",
       "      <td>8811</td>\n",
       "      <td>8993</td>\n",
       "      <td>10850</td>\n",
       "      <td>7331</td>\n",
       "      <td>8121</td>\n",
       "      <td>10510</td>\n",
       "      <td>5552</td>\n",
       "      <td>3317</td>\n",
       "    </tr>\n",
       "    <tr>\n",
       "      <th>Wed</th>\n",
       "      <td>2358</td>\n",
       "      <td>2215</td>\n",
       "      <td>3202</td>\n",
       "      <td>5923</td>\n",
       "      <td>11064</td>\n",
       "      <td>7960</td>\n",
       "      <td>9032</td>\n",
       "      <td>7138</td>\n",
       "      <td>7503</td>\n",
       "      <td>8664</td>\n",
       "      <td>4526</td>\n",
       "      <td>2963</td>\n",
       "    </tr>\n",
       "    <tr>\n",
       "      <th>Thur</th>\n",
       "      <td>2358</td>\n",
       "      <td>2673</td>\n",
       "      <td>3787</td>\n",
       "      <td>5377</td>\n",
       "      <td>10735</td>\n",
       "      <td>7540</td>\n",
       "      <td>5618</td>\n",
       "      <td>8095</td>\n",
       "      <td>6577</td>\n",
       "      <td>10643</td>\n",
       "      <td>4793</td>\n",
       "      <td>2589</td>\n",
       "    </tr>\n",
       "    <tr>\n",
       "      <th>Fri</th>\n",
       "      <td>2101</td>\n",
       "      <td>2042</td>\n",
       "      <td>5061</td>\n",
       "      <td>5535</td>\n",
       "      <td>11653</td>\n",
       "      <td>7665</td>\n",
       "      <td>7665</td>\n",
       "      <td>10310</td>\n",
       "      <td>6636</td>\n",
       "      <td>9335</td>\n",
       "      <td>7172</td>\n",
       "      <td>2741</td>\n",
       "    </tr>\n",
       "    <tr>\n",
       "      <th>Sat</th>\n",
       "      <td>1614</td>\n",
       "      <td>2186</td>\n",
       "      <td>4566</td>\n",
       "      <td>9698</td>\n",
       "      <td>8611</td>\n",
       "      <td>9035</td>\n",
       "      <td>5208</td>\n",
       "      <td>9020</td>\n",
       "      <td>5245</td>\n",
       "      <td>9295</td>\n",
       "      <td>7473</td>\n",
       "      <td>2663</td>\n",
       "    </tr>\n",
       "    <tr>\n",
       "      <th>Sun</th>\n",
       "      <td>1681</td>\n",
       "      <td>1996</td>\n",
       "      <td>4990</td>\n",
       "      <td>7228</td>\n",
       "      <td>7940</td>\n",
       "      <td>10050</td>\n",
       "      <td>6210</td>\n",
       "      <td>6635</td>\n",
       "      <td>8601</td>\n",
       "      <td>9326</td>\n",
       "      <td>4258</td>\n",
       "      <td>2409</td>\n",
       "    </tr>\n",
       "  </tbody>\n",
       "</table>\n",
       "</div>"
      ],
      "text/plain": [
       "month    1     2     3     4      5      6      7      8     9      10    11  \\\n",
       "Mon    1874  2190  3627  7046   6776   8951  10412   7591  8941   6169  4931   \n",
       "Tue    2182  1655  3992  6604   8811   8993  10850   7331  8121  10510  5552   \n",
       "Wed    2358  2215  3202  5923  11064   7960   9032   7138  7503   8664  4526   \n",
       "Thur   2358  2673  3787  5377  10735   7540   5618   8095  6577  10643  4793   \n",
       "Fri    2101  2042  5061  5535  11653   7665   7665  10310  6636   9335  7172   \n",
       "Sat    1614  2186  4566  9698   8611   9035   5208   9020  5245   9295  7473   \n",
       "Sun    1681  1996  4990  7228   7940  10050   6210   6635  8601   9326  4258   \n",
       "\n",
       "month    12  \n",
       "Mon    3676  \n",
       "Tue    3317  \n",
       "Wed    2963  \n",
       "Thur   2589  \n",
       "Fri    2741  \n",
       "Sat    2663  \n",
       "Sun    2409  "
      ]
     },
     "execution_count": 24,
     "metadata": {},
     "output_type": "execute_result"
    }
   ],
   "source": [
    "df19_gbdf = pd.DataFrame({'month': month7,\n",
    "                             'weekday': weekday12,\n",
    "                             'count':list(df19_gb)})\n",
    "df19_pivot = df19_gbdf.pivot('weekday', 'month', 'count')\n",
    "df19_pivot.index = ['Mon','Tue','Wed','Thur','Fri','Sat','Sun']\n",
    "df19_pivot"
   ]
  },
  {
   "cell_type": "code",
   "execution_count": 25,
   "metadata": {},
   "outputs": [],
   "source": [
    "df20_gb = df20.groupby(['month','weekday']).size()"
   ]
  },
  {
   "cell_type": "code",
   "execution_count": 26,
   "metadata": {},
   "outputs": [
    {
     "data": {
      "text/html": [
       "<div>\n",
       "<style scoped>\n",
       "    .dataframe tbody tr th:only-of-type {\n",
       "        vertical-align: middle;\n",
       "    }\n",
       "\n",
       "    .dataframe tbody tr th {\n",
       "        vertical-align: top;\n",
       "    }\n",
       "\n",
       "    .dataframe thead th {\n",
       "        text-align: right;\n",
       "    }\n",
       "</style>\n",
       "<table border=\"1\" class=\"dataframe\">\n",
       "  <thead>\n",
       "    <tr style=\"text-align: right;\">\n",
       "      <th>month</th>\n",
       "      <th>1</th>\n",
       "      <th>2</th>\n",
       "      <th>3</th>\n",
       "      <th>4</th>\n",
       "      <th>5</th>\n",
       "      <th>6</th>\n",
       "      <th>7</th>\n",
       "      <th>8</th>\n",
       "      <th>9</th>\n",
       "      <th>10</th>\n",
       "      <th>11</th>\n",
       "      <th>12</th>\n",
       "    </tr>\n",
       "  </thead>\n",
       "  <tbody>\n",
       "    <tr>\n",
       "      <th>Mon</th>\n",
       "      <td>1498</td>\n",
       "      <td>2787</td>\n",
       "      <td>7971</td>\n",
       "      <td>8230</td>\n",
       "      <td>8712</td>\n",
       "      <td>10192</td>\n",
       "      <td>4038</td>\n",
       "      <td>6594</td>\n",
       "      <td>7843</td>\n",
       "      <td>7912</td>\n",
       "      <td>6035</td>\n",
       "      <td>2525</td>\n",
       "    </tr>\n",
       "    <tr>\n",
       "      <th>Tue</th>\n",
       "      <td>2263</td>\n",
       "      <td>2390</td>\n",
       "      <td>7935</td>\n",
       "      <td>9107</td>\n",
       "      <td>6969</td>\n",
       "      <td>9241</td>\n",
       "      <td>5840</td>\n",
       "      <td>4669</td>\n",
       "      <td>12119</td>\n",
       "      <td>8457</td>\n",
       "      <td>4457</td>\n",
       "      <td>2986</td>\n",
       "    </tr>\n",
       "    <tr>\n",
       "      <th>Wed</th>\n",
       "      <td>2803</td>\n",
       "      <td>2312</td>\n",
       "      <td>6892</td>\n",
       "      <td>12224</td>\n",
       "      <td>10790</td>\n",
       "      <td>6300</td>\n",
       "      <td>7134</td>\n",
       "      <td>4223</td>\n",
       "      <td>8242</td>\n",
       "      <td>8425</td>\n",
       "      <td>4500</td>\n",
       "      <td>2895</td>\n",
       "    </tr>\n",
       "    <tr>\n",
       "      <th>Thur</th>\n",
       "      <td>3756</td>\n",
       "      <td>3172</td>\n",
       "      <td>4298</td>\n",
       "      <td>13026</td>\n",
       "      <td>10496</td>\n",
       "      <td>7236</td>\n",
       "      <td>7401</td>\n",
       "      <td>5482</td>\n",
       "      <td>8657</td>\n",
       "      <td>10567</td>\n",
       "      <td>4803</td>\n",
       "      <td>2962</td>\n",
       "    </tr>\n",
       "    <tr>\n",
       "      <th>Fri</th>\n",
       "      <td>3489</td>\n",
       "      <td>2652</td>\n",
       "      <td>5272</td>\n",
       "      <td>8821</td>\n",
       "      <td>9158</td>\n",
       "      <td>8044</td>\n",
       "      <td>7069</td>\n",
       "      <td>4083</td>\n",
       "      <td>8951</td>\n",
       "      <td>11731</td>\n",
       "      <td>4689</td>\n",
       "      <td>2614</td>\n",
       "    </tr>\n",
       "    <tr>\n",
       "      <th>Sat</th>\n",
       "      <td>1866</td>\n",
       "      <td>3426</td>\n",
       "      <td>7604</td>\n",
       "      <td>10676</td>\n",
       "      <td>12032</td>\n",
       "      <td>6731</td>\n",
       "      <td>8214</td>\n",
       "      <td>4189</td>\n",
       "      <td>10697</td>\n",
       "      <td>11905</td>\n",
       "      <td>5777</td>\n",
       "      <td>2550</td>\n",
       "    </tr>\n",
       "    <tr>\n",
       "      <th>Sun</th>\n",
       "      <td>2412</td>\n",
       "      <td>2078</td>\n",
       "      <td>10509</td>\n",
       "      <td>7923</td>\n",
       "      <td>12640</td>\n",
       "      <td>8776</td>\n",
       "      <td>6524</td>\n",
       "      <td>6765</td>\n",
       "      <td>11298</td>\n",
       "      <td>9479</td>\n",
       "      <td>4605</td>\n",
       "      <td>2182</td>\n",
       "    </tr>\n",
       "  </tbody>\n",
       "</table>\n",
       "</div>"
      ],
      "text/plain": [
       "month    1     2      3      4      5      6     7     8      9      10    11  \\\n",
       "Mon    1498  2787   7971   8230   8712  10192  4038  6594   7843   7912  6035   \n",
       "Tue    2263  2390   7935   9107   6969   9241  5840  4669  12119   8457  4457   \n",
       "Wed    2803  2312   6892  12224  10790   6300  7134  4223   8242   8425  4500   \n",
       "Thur   3756  3172   4298  13026  10496   7236  7401  5482   8657  10567  4803   \n",
       "Fri    3489  2652   5272   8821   9158   8044  7069  4083   8951  11731  4689   \n",
       "Sat    1866  3426   7604  10676  12032   6731  8214  4189  10697  11905  5777   \n",
       "Sun    2412  2078  10509   7923  12640   8776  6524  6765  11298   9479  4605   \n",
       "\n",
       "month    12  \n",
       "Mon    2525  \n",
       "Tue    2986  \n",
       "Wed    2895  \n",
       "Thur   2962  \n",
       "Fri    2614  \n",
       "Sat    2550  \n",
       "Sun    2182  "
      ]
     },
     "execution_count": 26,
     "metadata": {},
     "output_type": "execute_result"
    }
   ],
   "source": [
    "df20_gbdf = pd.DataFrame({'month': month7,\n",
    "                             'weekday': weekday12,\n",
    "                             'count':list(df20_gb)})\n",
    "df20_pivot = df20_gbdf.pivot('weekday', 'month', 'count')\n",
    "df20_pivot.index = ['Mon','Tue','Wed','Thur','Fri','Sat','Sun']\n",
    "df20_pivot"
   ]
  },
  {
   "cell_type": "code",
   "execution_count": 27,
   "metadata": {},
   "outputs": [
    {
     "data": {
      "image/png": "[encoded data removed]",
      "text/plain": [
       "<Figure size 493.714x288 with 2 Axes>"
      ]
     },
     "metadata": {
      "needs_background": "light"
     },
     "output_type": "display_data"
    }
   ],
   "source": [
    "cmap = plt.get_cmap('Blues')\n",
    "\n",
    "plt.matshow(df19_pivot, cmap=cmap)\n",
    "plt.colorbar(shrink=0.8, aspect=10)\n",
    "plt.xticks(np.arange(0,12),np.arange(1,13,1))\n",
    "plt.yticks(np.arange(0,7),['MON','TUE','WED','THU','FRI','SAT','SUN'])\n",
    "plt.xlabel('Month', labelpad = 15, fontdict = {'size' : 15})\n",
    "\n",
    "\n",
    "plt.clim(0,13000)"
   ]
  },
  {
   "cell_type": "code",
   "execution_count": 28,
   "metadata": {},
   "outputs": [
    {
     "data": {
      "image/png": "[encoded data removed]",
      "text/plain": [
       "<Figure size 493.714x288 with 2 Axes>"
      ]
     },
     "metadata": {
      "needs_background": "light"
     },
     "output_type": "display_data"
    }
   ],
   "source": [
    "plt.matshow(df20_pivot, cmap=cmap)\n",
    "plt.colorbar(shrink=0.8, aspect=10)\n",
    "plt.xticks(np.arange(0,12),np.arange(1,13,1))\n",
    "plt.yticks(np.arange(0,7),['MON','TUE','WED','THU','FRI','SAT','SUN'])\n",
    "plt.xlabel('Month', labelpad = 15, fontdict = {'size' : 15})\n",
    "\n",
    "\n",
    "plt.clim(0,13000)"
   ]
  },
  {
   "cell_type": "code",
   "execution_count": null,
   "metadata": {},
   "outputs": [],
   "source": [
    "# df19_pivot.to_csv('../data/df19_pivot.csv')\n",
    "# df20_pivot.to_csv('../data/df20_pivot.csv')"
   ]
  },
  {
   "cell_type": "markdown",
   "metadata": {},
   "source": [
    "------------------------------------"
   ]
  },
  {
   "cell_type": "markdown",
   "metadata": {},
   "source": [
    "#### 시간별 대여량 비교(비율로 계산)\t"
   ]
  },
  {
   "cell_type": "code",
   "execution_count": 29,
   "metadata": {},
   "outputs": [],
   "source": [
    "hour_index=np.arange(0,24,1)\n",
    "\n",
    "df19_hour = Fare_valueRatio(df19,'hour')\n",
    "df20_hour = Fare_valueRatio(df20,'hour')\n",
    "\n",
    "df19_hol_hour = Fare_valueRatio(df19_hol,'hour')\n",
    "df20_hol_hour = Fare_valueRatio(df20_hol,'hour')\n",
    "\n",
    "df19_wek_hour = Fare_valueRatio(df19_wek,'hour')\n",
    "df20_wek_hour = Fare_valueRatio(df20_wek,'hour')"
   ]
  },
  {
   "cell_type": "code",
   "execution_count": 30,
   "metadata": {},
   "outputs": [],
   "source": [
    "df_hour = pd.concat([df19_hour,df20_hour,df19_hol_hour,df20_hol_hour,df19_wek_hour,df20_wek_hour],axis=1)\n",
    "df_hour.columns = ['19_all','20_all','19_hol','20_hol','19_wek','20_wek']"
   ]
  },
  {
   "cell_type": "code",
   "execution_count": 31,
   "metadata": {},
   "outputs": [
    {
     "data": {
      "text/html": [
       "<div>\n",
       "<style scoped>\n",
       "    .dataframe tbody tr th:only-of-type {\n",
       "        vertical-align: middle;\n",
       "    }\n",
       "\n",
       "    .dataframe tbody tr th {\n",
       "        vertical-align: top;\n",
       "    }\n",
       "\n",
       "    .dataframe thead th {\n",
       "        text-align: right;\n",
       "    }\n",
       "</style>\n",
       "<table border=\"1\" class=\"dataframe\">\n",
       "  <thead>\n",
       "    <tr style=\"text-align: right;\">\n",
       "      <th></th>\n",
       "      <th>19_all</th>\n",
       "      <th>20_all</th>\n",
       "      <th>19_hol</th>\n",
       "      <th>20_hol</th>\n",
       "      <th>19_wek</th>\n",
       "      <th>20_wek</th>\n",
       "    </tr>\n",
       "  </thead>\n",
       "  <tbody>\n",
       "    <tr>\n",
       "      <th>0</th>\n",
       "      <td>0.001249</td>\n",
       "      <td>0.001072</td>\n",
       "      <td>0.001374</td>\n",
       "      <td>0.001062</td>\n",
       "      <td>0.001194</td>\n",
       "      <td>0.001078</td>\n",
       "    </tr>\n",
       "    <tr>\n",
       "      <th>1</th>\n",
       "      <td>0.000000</td>\n",
       "      <td>0.000000</td>\n",
       "      <td>0.000000</td>\n",
       "      <td>0.000000</td>\n",
       "      <td>0.000000</td>\n",
       "      <td>0.000000</td>\n",
       "    </tr>\n",
       "    <tr>\n",
       "      <th>2</th>\n",
       "      <td>0.000000</td>\n",
       "      <td>0.000000</td>\n",
       "      <td>0.000000</td>\n",
       "      <td>0.000000</td>\n",
       "      <td>0.000000</td>\n",
       "      <td>0.000000</td>\n",
       "    </tr>\n",
       "    <tr>\n",
       "      <th>3</th>\n",
       "      <td>0.000000</td>\n",
       "      <td>0.000000</td>\n",
       "      <td>0.000000</td>\n",
       "      <td>0.000000</td>\n",
       "      <td>0.000000</td>\n",
       "      <td>0.000000</td>\n",
       "    </tr>\n",
       "    <tr>\n",
       "      <th>4</th>\n",
       "      <td>0.000000</td>\n",
       "      <td>0.000000</td>\n",
       "      <td>0.000000</td>\n",
       "      <td>0.000000</td>\n",
       "      <td>0.000000</td>\n",
       "      <td>0.000000</td>\n",
       "    </tr>\n",
       "    <tr>\n",
       "      <th>5</th>\n",
       "      <td>0.007085</td>\n",
       "      <td>0.007346</td>\n",
       "      <td>0.007434</td>\n",
       "      <td>0.006137</td>\n",
       "      <td>0.006934</td>\n",
       "      <td>0.007969</td>\n",
       "    </tr>\n",
       "    <tr>\n",
       "      <th>6</th>\n",
       "      <td>0.010429</td>\n",
       "      <td>0.009183</td>\n",
       "      <td>0.007466</td>\n",
       "      <td>0.006543</td>\n",
       "      <td>0.011714</td>\n",
       "      <td>0.010543</td>\n",
       "    </tr>\n",
       "    <tr>\n",
       "      <th>7</th>\n",
       "      <td>0.024559</td>\n",
       "      <td>0.019943</td>\n",
       "      <td>0.011550</td>\n",
       "      <td>0.010937</td>\n",
       "      <td>0.030199</td>\n",
       "      <td>0.024583</td>\n",
       "    </tr>\n",
       "    <tr>\n",
       "      <th>8</th>\n",
       "      <td>0.048770</td>\n",
       "      <td>0.040063</td>\n",
       "      <td>0.020358</td>\n",
       "      <td>0.018748</td>\n",
       "      <td>0.061088</td>\n",
       "      <td>0.051047</td>\n",
       "    </tr>\n",
       "    <tr>\n",
       "      <th>9</th>\n",
       "      <td>0.031489</td>\n",
       "      <td>0.027480</td>\n",
       "      <td>0.026456</td>\n",
       "      <td>0.025138</td>\n",
       "      <td>0.033671</td>\n",
       "      <td>0.028687</td>\n",
       "    </tr>\n",
       "    <tr>\n",
       "      <th>10</th>\n",
       "      <td>0.028040</td>\n",
       "      <td>0.028833</td>\n",
       "      <td>0.031743</td>\n",
       "      <td>0.033736</td>\n",
       "      <td>0.026435</td>\n",
       "      <td>0.026306</td>\n",
       "    </tr>\n",
       "    <tr>\n",
       "      <th>11</th>\n",
       "      <td>0.030453</td>\n",
       "      <td>0.035735</td>\n",
       "      <td>0.037042</td>\n",
       "      <td>0.041589</td>\n",
       "      <td>0.027596</td>\n",
       "      <td>0.032718</td>\n",
       "    </tr>\n",
       "    <tr>\n",
       "      <th>12</th>\n",
       "      <td>0.038959</td>\n",
       "      <td>0.042707</td>\n",
       "      <td>0.047339</td>\n",
       "      <td>0.050462</td>\n",
       "      <td>0.035326</td>\n",
       "      <td>0.038710</td>\n",
       "    </tr>\n",
       "    <tr>\n",
       "      <th>13</th>\n",
       "      <td>0.043606</td>\n",
       "      <td>0.049957</td>\n",
       "      <td>0.055853</td>\n",
       "      <td>0.063533</td>\n",
       "      <td>0.038296</td>\n",
       "      <td>0.042961</td>\n",
       "    </tr>\n",
       "    <tr>\n",
       "      <th>14</th>\n",
       "      <td>0.048847</td>\n",
       "      <td>0.058323</td>\n",
       "      <td>0.066815</td>\n",
       "      <td>0.078362</td>\n",
       "      <td>0.041057</td>\n",
       "      <td>0.047996</td>\n",
       "    </tr>\n",
       "    <tr>\n",
       "      <th>15</th>\n",
       "      <td>0.054985</td>\n",
       "      <td>0.066026</td>\n",
       "      <td>0.077215</td>\n",
       "      <td>0.088460</td>\n",
       "      <td>0.045347</td>\n",
       "      <td>0.054465</td>\n",
       "    </tr>\n",
       "    <tr>\n",
       "      <th>16</th>\n",
       "      <td>0.064975</td>\n",
       "      <td>0.074850</td>\n",
       "      <td>0.084099</td>\n",
       "      <td>0.092627</td>\n",
       "      <td>0.056684</td>\n",
       "      <td>0.065689</td>\n",
       "    </tr>\n",
       "    <tr>\n",
       "      <th>17</th>\n",
       "      <td>0.081241</td>\n",
       "      <td>0.086764</td>\n",
       "      <td>0.089219</td>\n",
       "      <td>0.088703</td>\n",
       "      <td>0.077782</td>\n",
       "      <td>0.085765</td>\n",
       "    </tr>\n",
       "    <tr>\n",
       "      <th>18</th>\n",
       "      <td>0.107808</td>\n",
       "      <td>0.105148</td>\n",
       "      <td>0.081747</td>\n",
       "      <td>0.076979</td>\n",
       "      <td>0.119107</td>\n",
       "      <td>0.119664</td>\n",
       "    </tr>\n",
       "    <tr>\n",
       "      <th>19</th>\n",
       "      <td>0.080404</td>\n",
       "      <td>0.077517</td>\n",
       "      <td>0.074697</td>\n",
       "      <td>0.069363</td>\n",
       "      <td>0.082878</td>\n",
       "      <td>0.081718</td>\n",
       "    </tr>\n",
       "    <tr>\n",
       "      <th>20</th>\n",
       "      <td>0.079418</td>\n",
       "      <td>0.077833</td>\n",
       "      <td>0.078960</td>\n",
       "      <td>0.072527</td>\n",
       "      <td>0.079616</td>\n",
       "      <td>0.080567</td>\n",
       "    </tr>\n",
       "    <tr>\n",
       "      <th>21</th>\n",
       "      <td>0.077338</td>\n",
       "      <td>0.073666</td>\n",
       "      <td>0.073131</td>\n",
       "      <td>0.068370</td>\n",
       "      <td>0.079162</td>\n",
       "      <td>0.076395</td>\n",
       "    </tr>\n",
       "    <tr>\n",
       "      <th>22</th>\n",
       "      <td>0.069793</td>\n",
       "      <td>0.061252</td>\n",
       "      <td>0.063191</td>\n",
       "      <td>0.056018</td>\n",
       "      <td>0.072655</td>\n",
       "      <td>0.063950</td>\n",
       "    </tr>\n",
       "    <tr>\n",
       "      <th>23</th>\n",
       "      <td>0.070552</td>\n",
       "      <td>0.056304</td>\n",
       "      <td>0.064310</td>\n",
       "      <td>0.050705</td>\n",
       "      <td>0.073259</td>\n",
       "      <td>0.059190</td>\n",
       "    </tr>\n",
       "  </tbody>\n",
       "</table>\n",
       "</div>"
      ],
      "text/plain": [
       "      19_all    20_all    19_hol    20_hol    19_wek    20_wek\n",
       "0   0.001249  0.001072  0.001374  0.001062  0.001194  0.001078\n",
       "1   0.000000  0.000000  0.000000  0.000000  0.000000  0.000000\n",
       "2   0.000000  0.000000  0.000000  0.000000  0.000000  0.000000\n",
       "3   0.000000  0.000000  0.000000  0.000000  0.000000  0.000000\n",
       "4   0.000000  0.000000  0.000000  0.000000  0.000000  0.000000\n",
       "5   0.007085  0.007346  0.007434  0.006137  0.006934  0.007969\n",
       "6   0.010429  0.009183  0.007466  0.006543  0.011714  0.010543\n",
       "7   0.024559  0.019943  0.011550  0.010937  0.030199  0.024583\n",
       "8   0.048770  0.040063  0.020358  0.018748  0.061088  0.051047\n",
       "9   0.031489  0.027480  0.026456  0.025138  0.033671  0.028687\n",
       "10  0.028040  0.028833  0.031743  0.033736  0.026435  0.026306\n",
       "11  0.030453  0.035735  0.037042  0.041589  0.027596  0.032718\n",
       "12  0.038959  0.042707  0.047339  0.050462  0.035326  0.038710\n",
       "13  0.043606  0.049957  0.055853  0.063533  0.038296  0.042961\n",
       "14  0.048847  0.058323  0.066815  0.078362  0.041057  0.047996\n",
       "15  0.054985  0.066026  0.077215  0.088460  0.045347  0.054465\n",
       "16  0.064975  0.074850  0.084099  0.092627  0.056684  0.065689\n",
       "17  0.081241  0.086764  0.089219  0.088703  0.077782  0.085765\n",
       "18  0.107808  0.105148  0.081747  0.076979  0.119107  0.119664\n",
       "19  0.080404  0.077517  0.074697  0.069363  0.082878  0.081718\n",
       "20  0.079418  0.077833  0.078960  0.072527  0.079616  0.080567\n",
       "21  0.077338  0.073666  0.073131  0.068370  0.079162  0.076395\n",
       "22  0.069793  0.061252  0.063191  0.056018  0.072655  0.063950\n",
       "23  0.070552  0.056304  0.064310  0.050705  0.073259  0.059190"
      ]
     },
     "execution_count": 31,
     "metadata": {},
     "output_type": "execute_result"
    }
   ],
   "source": [
    "df_hour = pd.concat([pd.DataFrame([[0]*6]*4,index=[1,2,3,4],columns=df_hour.columns),df_hour],axis=0).sort_index()\n",
    "df_hour"
   ]
  },
  {
   "cell_type": "code",
   "execution_count": null,
   "metadata": {},
   "outputs": [],
   "source": [
    "# df_hour.to_csv('../data/df_hour.csv')"
   ]
  },
  {
   "cell_type": "code",
   "execution_count": 32,
   "metadata": {},
   "outputs": [],
   "source": [
    "# 축 크기 설정\n",
    "parameters = {'axes.labelsize': 13,\n",
    "              'xtick.labelsize' : 13,\n",
    "              'ytick.labelsize' : 13,\n",
    "          'legend.fontsize': 12}\n",
    "plt.rcParams.update(parameters)"
   ]
  },
  {
   "cell_type": "code",
   "execution_count": 33,
   "metadata": {},
   "outputs": [],
   "source": [
    "hour_xname = [str(x) + 'AM' if x%4 == 0 else '' for x in range(12)] + ['12PM']+ [str(x) + 'PM' if x%4 == 0 else '' for x in range(1,12)]"
   ]
  },
  {
   "cell_type": "code",
   "execution_count": 34,
   "metadata": {},
   "outputs": [],
   "source": [
    "hour_index=np.arange(0,24,1)"
   ]
  },
  {
   "cell_type": "code",
   "execution_count": 35,
   "metadata": {},
   "outputs": [
    {
     "data": {
      "text/plain": [
       "<matplotlib.legend.Legend at 0x1f7baf89eb0>"
      ]
     },
     "execution_count": 35,
     "metadata": {},
     "output_type": "execute_result"
    },
    {
     "data": {
      "image/png": "[encoded data removed]",
      "text/plain": [
       "<Figure size 432x288 with 1 Axes>"
      ]
     },
     "metadata": {
      "needs_background": "light"
     },
     "output_type": "display_data"
    }
   ],
   "source": [
    "plt.plot(hour_index,df_hour['19_all'], label='2019')\n",
    "plt.plot(hour_index,df_hour['20_all'], label='2020')\n",
    "plt.xticks(hour_index,hour_xname)\n",
    "plt.legend(loc=2)"
   ]
  },
  {
   "cell_type": "code",
   "execution_count": 36,
   "metadata": {},
   "outputs": [
    {
     "data": {
      "text/plain": [
       "<matplotlib.legend.Legend at 0x1f7bdb34550>"
      ]
     },
     "execution_count": 36,
     "metadata": {},
     "output_type": "execute_result"
    },
    {
     "data": {
      "image/png": "[encoded data removed]",
      "text/plain": [
       "<Figure size 432x288 with 1 Axes>"
      ]
     },
     "metadata": {
      "needs_background": "light"
     },
     "output_type": "display_data"
    }
   ],
   "source": [
    "plt.plot(hour_index,df_hour['19_hol'], label='2019')\n",
    "plt.plot(hour_index,df_hour['20_hol'], label='2020')\n",
    "plt.xticks(hour_index,hour_xname)\n",
    "plt.legend(loc=2)"
   ]
  },
  {
   "cell_type": "code",
   "execution_count": 37,
   "metadata": {},
   "outputs": [
    {
     "data": {
      "text/plain": [
       "<matplotlib.legend.Legend at 0x1f7be56e3d0>"
      ]
     },
     "execution_count": 37,
     "metadata": {},
     "output_type": "execute_result"
    },
    {
     "data": {
      "image/png": "[encoded data removed]",
      "text/plain": [
       "<Figure size 432x288 with 1 Axes>"
      ]
     },
     "metadata": {
      "needs_background": "light"
     },
     "output_type": "display_data"
    }
   ],
   "source": [
    "plt.plot(hour_index,df_hour['19_wek'], label='2019')\n",
    "plt.plot(hour_index,df_hour['20_wek'], label='2020')\n",
    "plt.xticks(hour_index,hour_xname)\n",
    "plt.legend(loc=2)"
   ]
  },
  {
   "cell_type": "markdown",
   "metadata": {},
   "source": [
    "이용시간"
   ]
  },
  {
   "cell_type": "code",
   "execution_count": 38,
   "metadata": {},
   "outputs": [],
   "source": [
    "def travel_time_scope(x):\n",
    "    if x<10:\n",
    "        return 0\n",
    "    elif x<20:\n",
    "        return 10\n",
    "    elif x<30:\n",
    "        return 20\n",
    "    elif x<40:\n",
    "        return 30\n",
    "    elif x<50:\n",
    "        return 40\n",
    "    elif x<60:\n",
    "        return 50\n",
    "    elif x<70:\n",
    "        return 60\n",
    "    elif x<80:\n",
    "        return 70\n",
    "    elif x<90:\n",
    "        return 80\n",
    "    elif x<100:\n",
    "        return 90\n",
    "    elif x<110:\n",
    "        return 100\n",
    "    else:\n",
    "        return 110"
   ]
  },
  {
   "cell_type": "code",
   "execution_count": 39,
   "metadata": {},
   "outputs": [],
   "source": [
    "th19_hol = (df19_hol['travel_time']/60).apply(travel_time_scope)\n",
    "th20_hol = (df20_hol['travel_time']/60).apply(travel_time_scope)"
   ]
  },
  {
   "cell_type": "code",
   "execution_count": 40,
   "metadata": {},
   "outputs": [],
   "source": [
    "th19_hol = (th19_hol.value_counts()/len(th19_hol)).sort_index()\n",
    "th20_hol = (th20_hol.value_counts()/len(th20_hol)).sort_index()"
   ]
  },
  {
   "cell_type": "code",
   "execution_count": 41,
   "metadata": {},
   "outputs": [
    {
     "data": {
      "text/plain": [
       "<matplotlib.legend.Legend at 0x1f7c78a7760>"
      ]
     },
     "execution_count": 41,
     "metadata": {},
     "output_type": "execute_result"
    },
    {
     "data": {
      "image/png": "[encoded data removed]",
      "text/plain": [
       "<Figure size 432x288 with 1 Axes>"
      ]
     },
     "metadata": {
      "needs_background": "light"
     },
     "output_type": "display_data"
    }
   ],
   "source": [
    "plt.bar(np.arange(12),th19_hol, alpha=0.8,width=1,label='2019')\n",
    "plt.bar(np.arange(12),th20_hol,alpha=0.4, width=1,label='2020')\n",
    "plt.xticks(np.arange(12),[0,'',20,'',40,'',60,'',80,'',100,''])\n",
    "plt.xlabel('travel time(min)')\n",
    "plt.title('Weekend')\n",
    "plt.legend()"
   ]
  },
  {
   "cell_type": "code",
   "execution_count": 42,
   "metadata": {},
   "outputs": [],
   "source": [
    "th19_wek = (df19_wek['travel_time']/60).apply(travel_time_scope)\n",
    "th20_wek = (df20_wek['travel_time']/60).apply(travel_time_scope)"
   ]
  },
  {
   "cell_type": "code",
   "execution_count": 43,
   "metadata": {},
   "outputs": [],
   "source": [
    "th19_wek = (th19_wek.value_counts()/len(th19_wek)).sort_index()\n",
    "th20_wek = (th20_wek.value_counts()/len(th20_wek)).sort_index()"
   ]
  },
  {
   "cell_type": "code",
   "execution_count": 44,
   "metadata": {},
   "outputs": [
    {
     "data": {
      "text/plain": [
       "<matplotlib.legend.Legend at 0x1f7cd4bdb20>"
      ]
     },
     "execution_count": 44,
     "metadata": {},
     "output_type": "execute_result"
    },
    {
     "data": {
      "image/png": "[encoded data removed]",
      "text/plain": [
       "<Figure size 432x288 with 1 Axes>"
      ]
     },
     "metadata": {
      "needs_background": "light"
     },
     "output_type": "display_data"
    }
   ],
   "source": [
    "plt.bar(np.arange(12),th19_wek, alpha=0.8,width=1,label='2019')\n",
    "plt.bar(np.arange(12),th20_wek,alpha=0.4, width=1,label='2020')\n",
    "plt.xticks(np.arange(12),[0,'',20,'',40,'',60,'',80,'',100,''])\n",
    "plt.xlabel('travel time(min)')\n",
    "plt.title('Weekday')\n",
    "plt.legend()"
   ]
  }
 ],
 "metadata": {
  "kernelspec": {
   "display_name": "Python 3",
   "language": "python",
   "name": "python3"
  },
  "language_info": {
   "codemirror_mode": {
    "name": "ipython",
    "version": 3
   },
   "file_extension": ".py",
   "mimetype": "text/x-python",
   "name": "python",
   "nbconvert_exporter": "python",
   "pygments_lexer": "ipython3",
   "version": "3.8.8"
  }
 },
 "nbformat": 4,
 "nbformat_minor": 4
}
