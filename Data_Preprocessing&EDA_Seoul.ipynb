{
 "cells": [
  {
   "cell_type": "code",
   "execution_count": 1,
   "metadata": {},
   "outputs": [],
   "source": [
    "import numpy as np\n",
    "import pandas as pd\n",
    "import matplotlib.pyplot as plt\n",
    "import seaborn as sns\n",
    "import pickle\n",
    "from datetime import datetime"
   ]
  },
  {
   "cell_type": "markdown",
   "metadata": {},
   "source": [
    "### 데이터 로드"
   ]
  },
  {
   "cell_type": "code",
   "execution_count": 2,
   "metadata": {},
   "outputs": [],
   "source": [
    "#데이터 로드\n",
    "with open('../data/seoul/따릉이_대여이력_2019v2.pkl', 'rb') as f:\n",
    "    df19 = pickle.load(f, encoding='utf-8')\n",
    "with open('../data/seoul/따릉이_대여이력_2020v2.pkl', 'rb') as f:\n",
    "    df20 = pickle.load(f, encoding='utf-8')\n",
    "with open('../data/seoul/따릉이_대여이력_2021v2.pkl', 'rb') as f:\n",
    "    df21 = pickle.load(f, encoding='utf-8')\n",
    "with open('../data/seoul/따릉이_대여이력_202201-202205v2.pkl', 'rb') as f:\n",
    "    df22 = pickle.load(f, encoding='utf-8')\n",
    "\n",
    "# df19.reset_index(drop=True,inplace=True)\n",
    "# df20.reset_index(drop=True,inplace=True)\n",
    "# df21.reset_index(drop=True,inplace=True)\n",
    "# df22.reset_index(drop=True,inplace=True)"
   ]
  },
  {
   "cell_type": "code",
   "execution_count": 3,
   "metadata": {},
   "outputs": [],
   "source": [
    "# 형태 맞춰줌\n",
    "df19['rent_id'] = df19['rent_id'].astype('int')\n",
    "df19['return_id'] = df19['return_id'].astype('int')\n",
    "df20['rent_id'] = df20['rent_id'].astype('int')\n",
    "df20['return_id'] = df20['return_id'].astype('int')"
   ]
  },
  {
   "cell_type": "code",
   "execution_count": 4,
   "metadata": {},
   "outputs": [
    {
     "data": {
      "text/html": [
       "<div>\n",
       "<style scoped>\n",
       "    .dataframe tbody tr th:only-of-type {\n",
       "        vertical-align: middle;\n",
       "    }\n",
       "\n",
       "    .dataframe tbody tr th {\n",
       "        vertical-align: top;\n",
       "    }\n",
       "\n",
       "    .dataframe thead th {\n",
       "        text-align: right;\n",
       "    }\n",
       "</style>\n",
       "<table border=\"1\" class=\"dataframe\">\n",
       "  <thead>\n",
       "    <tr style=\"text-align: right;\">\n",
       "      <th></th>\n",
       "      <th>rent_id</th>\n",
       "      <th>rent_time</th>\n",
       "      <th>return_id</th>\n",
       "      <th>return_time</th>\n",
       "      <th>travel_time</th>\n",
       "      <th>travel_distance</th>\n",
       "      <th>fare</th>\n",
       "      <th>sex</th>\n",
       "      <th>age</th>\n",
       "    </tr>\n",
       "  </thead>\n",
       "  <tbody>\n",
       "    <tr>\n",
       "      <th>0</th>\n",
       "      <td>1421</td>\n",
       "      <td>2019-01-01 00:00:44</td>\n",
       "      <td>1420</td>\n",
       "      <td>2019-01-01 00:03:53</td>\n",
       "      <td>189.0</td>\n",
       "      <td>580.0</td>\n",
       "      <td>BIL_004</td>\n",
       "      <td>\\N</td>\n",
       "      <td>AGE_002</td>\n",
       "    </tr>\n",
       "    <tr>\n",
       "      <th>1</th>\n",
       "      <td>1408</td>\n",
       "      <td>2019-01-01 00:02:16</td>\n",
       "      <td>1433</td>\n",
       "      <td>2019-01-01 00:07:07</td>\n",
       "      <td>291.0</td>\n",
       "      <td>1020.0</td>\n",
       "      <td>BIL_002</td>\n",
       "      <td>F</td>\n",
       "      <td>AGE_005</td>\n",
       "    </tr>\n",
       "    <tr>\n",
       "      <th>2</th>\n",
       "      <td>347</td>\n",
       "      <td>2019-01-01 00:04:12</td>\n",
       "      <td>387</td>\n",
       "      <td>2019-01-01 00:07:07</td>\n",
       "      <td>175.0</td>\n",
       "      <td>550.0</td>\n",
       "      <td>BIL_014</td>\n",
       "      <td>M</td>\n",
       "      <td>AGE_003</td>\n",
       "    </tr>\n",
       "    <tr>\n",
       "      <th>3</th>\n",
       "      <td>615</td>\n",
       "      <td>2019-01-01 00:03:09</td>\n",
       "      <td>612</td>\n",
       "      <td>2019-01-01 00:07:27</td>\n",
       "      <td>258.0</td>\n",
       "      <td>700.0</td>\n",
       "      <td>BIL_002</td>\n",
       "      <td>\\N</td>\n",
       "      <td>AGE_002</td>\n",
       "    </tr>\n",
       "    <tr>\n",
       "      <th>4</th>\n",
       "      <td>1177</td>\n",
       "      <td>2019-01-01 00:01:44</td>\n",
       "      <td>1152</td>\n",
       "      <td>2019-01-01 00:08:09</td>\n",
       "      <td>385.0</td>\n",
       "      <td>1090.0</td>\n",
       "      <td>BIL_006</td>\n",
       "      <td>\\N</td>\n",
       "      <td>AGE_002</td>\n",
       "    </tr>\n",
       "  </tbody>\n",
       "</table>\n",
       "</div>"
      ],
      "text/plain": [
       "   rent_id           rent_time return_id         return_time  travel_time  \\\n",
       "0     1421 2019-01-01 00:00:44      1420 2019-01-01 00:03:53        189.0   \n",
       "1     1408 2019-01-01 00:02:16      1433 2019-01-01 00:07:07        291.0   \n",
       "2      347 2019-01-01 00:04:12       387 2019-01-01 00:07:07        175.0   \n",
       "3      615 2019-01-01 00:03:09       612 2019-01-01 00:07:27        258.0   \n",
       "4     1177 2019-01-01 00:01:44      1152 2019-01-01 00:08:09        385.0   \n",
       "\n",
       "   travel_distance     fare sex      age  \n",
       "0            580.0  BIL_004  \\N  AGE_002  \n",
       "1           1020.0  BIL_002   F  AGE_005  \n",
       "2            550.0  BIL_014   M  AGE_003  \n",
       "3            700.0  BIL_002  \\N  AGE_002  \n",
       "4           1090.0  BIL_006  \\N  AGE_002  "
      ]
     },
     "execution_count": 4,
     "metadata": {},
     "output_type": "execute_result"
    }
   ],
   "source": [
    "df19.head()"
   ]
  },
  {
   "cell_type": "markdown",
   "metadata": {},
   "source": [
    "대여소 정보 불러오기"
   ]
  },
  {
   "cell_type": "code",
   "execution_count": 6,
   "metadata": {},
   "outputs": [],
   "source": [
    "sta_info = pd.read_csv('../data/seoul/대여소정보_20220803.csv')"
   ]
  },
  {
   "cell_type": "code",
   "execution_count": 7,
   "metadata": {
    "scrolled": false
   },
   "outputs": [
    {
     "data": {
      "text/html": [
       "<div>\n",
       "<style scoped>\n",
       "    .dataframe tbody tr th:only-of-type {\n",
       "        vertical-align: middle;\n",
       "    }\n",
       "\n",
       "    .dataframe tbody tr th {\n",
       "        vertical-align: top;\n",
       "    }\n",
       "\n",
       "    .dataframe thead th {\n",
       "        text-align: right;\n",
       "    }\n",
       "</style>\n",
       "<table border=\"1\" class=\"dataframe\">\n",
       "  <thead>\n",
       "    <tr style=\"text-align: right;\">\n",
       "      <th></th>\n",
       "      <th>stationId</th>\n",
       "      <th>ID</th>\n",
       "      <th>stationName</th>\n",
       "      <th>Y</th>\n",
       "      <th>X</th>\n",
       "      <th>Xn</th>\n",
       "      <th>Yn</th>\n",
       "      <th>Elev</th>\n",
       "      <th>start_date</th>\n",
       "      <th>end_date</th>\n",
       "      <th>BikeRoadNM</th>\n",
       "      <th>ToBikeRoad</th>\n",
       "    </tr>\n",
       "  </thead>\n",
       "  <tbody>\n",
       "    <tr>\n",
       "      <th>0</th>\n",
       "      <td>ST-3</td>\n",
       "      <td>101</td>\n",
       "      <td>101. (구)합정동 주민센터</td>\n",
       "      <td>37.549561</td>\n",
       "      <td>126.905754</td>\n",
       "      <td>947509.050934</td>\n",
       "      <td>1.950191e+06</td>\n",
       "      <td>9.153730</td>\n",
       "      <td>2018-04-20</td>\n",
       "      <td>2021-03-05</td>\n",
       "      <td>한강자전거길</td>\n",
       "      <td>771.0</td>\n",
       "    </tr>\n",
       "    <tr>\n",
       "      <th>1</th>\n",
       "      <td>ST-4</td>\n",
       "      <td>102</td>\n",
       "      <td>102. 망원역 1번출구 앞</td>\n",
       "      <td>37.555649</td>\n",
       "      <td>126.910629</td>\n",
       "      <td>947943.924406</td>\n",
       "      <td>1.950863e+06</td>\n",
       "      <td>6.963620</td>\n",
       "      <td>2018-04-20</td>\n",
       "      <td>2022-05-31</td>\n",
       "      <td>홍제천자전거길</td>\n",
       "      <td>1065.0</td>\n",
       "    </tr>\n",
       "    <tr>\n",
       "      <th>2</th>\n",
       "      <td>ST-5</td>\n",
       "      <td>103</td>\n",
       "      <td>103. 망원역 2번출구 앞</td>\n",
       "      <td>37.554951</td>\n",
       "      <td>126.910835</td>\n",
       "      <td>947961.634042</td>\n",
       "      <td>1.950786e+06</td>\n",
       "      <td>6.865431</td>\n",
       "      <td>2018-04-20</td>\n",
       "      <td>2022-05-31</td>\n",
       "      <td>한강자전거길</td>\n",
       "      <td>1146.0</td>\n",
       "    </tr>\n",
       "    <tr>\n",
       "      <th>3</th>\n",
       "      <td>ST-6</td>\n",
       "      <td>104</td>\n",
       "      <td>104. 합정역 1번출구 앞</td>\n",
       "      <td>37.550629</td>\n",
       "      <td>126.914986</td>\n",
       "      <td>948325.239132</td>\n",
       "      <td>1.950304e+06</td>\n",
       "      <td>18.135445</td>\n",
       "      <td>2018-04-20</td>\n",
       "      <td>2022-05-30</td>\n",
       "      <td>한강자전거길</td>\n",
       "      <td>676.0</td>\n",
       "    </tr>\n",
       "    <tr>\n",
       "      <th>4</th>\n",
       "      <td>ST-7</td>\n",
       "      <td>105</td>\n",
       "      <td>105. 합정역 5번출구 앞</td>\n",
       "      <td>37.550007</td>\n",
       "      <td>126.914825</td>\n",
       "      <td>948310.657239</td>\n",
       "      <td>1.950235e+06</td>\n",
       "      <td>17.498493</td>\n",
       "      <td>2018-04-20</td>\n",
       "      <td>2022-05-31</td>\n",
       "      <td>한강자전거길</td>\n",
       "      <td>962.0</td>\n",
       "    </tr>\n",
       "  </tbody>\n",
       "</table>\n",
       "</div>"
      ],
      "text/plain": [
       "  stationId   ID       stationName          Y           X             Xn  \\\n",
       "0      ST-3  101  101. (구)합정동 주민센터  37.549561  126.905754  947509.050934   \n",
       "1      ST-4  102   102. 망원역 1번출구 앞  37.555649  126.910629  947943.924406   \n",
       "2      ST-5  103   103. 망원역 2번출구 앞  37.554951  126.910835  947961.634042   \n",
       "3      ST-6  104   104. 합정역 1번출구 앞  37.550629  126.914986  948325.239132   \n",
       "4      ST-7  105   105. 합정역 5번출구 앞  37.550007  126.914825  948310.657239   \n",
       "\n",
       "             Yn       Elev  start_date    end_date BikeRoadNM  ToBikeRoad  \n",
       "0  1.950191e+06   9.153730  2018-04-20  2021-03-05     한강자전거길       771.0  \n",
       "1  1.950863e+06   6.963620  2018-04-20  2022-05-31    홍제천자전거길      1065.0  \n",
       "2  1.950786e+06   6.865431  2018-04-20  2022-05-31     한강자전거길      1146.0  \n",
       "3  1.950304e+06  18.135445  2018-04-20  2022-05-30     한강자전거길       676.0  \n",
       "4  1.950235e+06  17.498493  2018-04-20  2022-05-31     한강자전거길       962.0  "
      ]
     },
     "execution_count": 7,
     "metadata": {},
     "output_type": "execute_result"
    }
   ],
   "source": [
    "sta_info.head()"
   ]
  },
  {
   "cell_type": "markdown",
   "metadata": {},
   "source": [
    "----"
   ]
  },
  {
   "cell_type": "markdown",
   "metadata": {},
   "source": [
    "### 전처리"
   ]
  },
  {
   "cell_type": "code",
   "execution_count": 9,
   "metadata": {},
   "outputs": [],
   "source": [
    "def remove_sta(df):\n",
    "    df = df[(df['rent_id'].isin(sta_info['ID'])) & (df['return_id'].isin(sta_info['ID']))]\n",
    "    df = df[~((df['rent_id'] == df['return_id']) & (df['travel_time']<120))]\n",
    "    return df"
   ]
  },
  {
   "cell_type": "code",
   "execution_count": 10,
   "metadata": {},
   "outputs": [],
   "source": [
    "df19 = remove_sta(df19)\n",
    "df20 = remove_sta(df20)\n",
    "df21 = remove_sta(df21)\n",
    "df22 = remove_sta(df22)"
   ]
  },
  {
   "cell_type": "code",
   "execution_count": 12,
   "metadata": {},
   "outputs": [],
   "source": [
    "#월 column 추가\n",
    "df20['month'] = df20['rent_time'].dt.month\n",
    "df19['month'] = df19['rent_time'].dt.month\n",
    "\n",
    "#요일 column 추가 (월, 1 : 화, 2 : 수, 3 : 목, 4 : 금, 5 : 토, 6 : 일)\n",
    "df20['weekday'] = df20['rent_time'].dt.weekday\n",
    "df19['weekday'] = df19['rent_time'].dt.weekday\n",
    "\n",
    "#시간 column 추가\n",
    "df20['hour'] = df20['rent_time'].dt.hour\n",
    "df19['hour'] = df19['rent_time'].dt.hour\n",
    "\n",
    "#일\n",
    "df20['day'] = df20['rent_time'].dt.day\n",
    "df19['day'] = df19['rent_time'].dt.day"
   ]
  },
  {
   "cell_type": "markdown",
   "metadata": {},
   "source": [
    "#### 기준에 맞추어 데이터 제거\n",
    "* 1시간권 : 4시간 이상 도난/분실 간주 → travel_time이 1분미만, 4시간 이상 데이터 제거\n",
    "* 2시간권 : 6시간 이상 도난/분실 간주 → travel_time이 1분미만, 6시간 이상 데이터 제거"
   ]
  },
  {
   "cell_type": "code",
   "execution_count": 13,
   "metadata": {},
   "outputs": [],
   "source": [
    "def del_time_1(df):\n",
    "    \n",
    "    df = df[(df['fare'] == 'BIL_001') | (df['fare'] =='BIL_002') | (df['fare'] =='BIL_004')\n",
    "     | (df['fare'] =='BIL_005')  | (df['fare'] =='BIL_006')  | (df['fare'] =='BIL_007') ]\n",
    "    \n",
    "    #1시간권 > 4시간 이상 도난/분실 간주\n",
    "    index=df[(df['travel_time']<60) | (df['travel_time']>14400) ].index\n",
    "    return df.drop(index)\n",
    "\n",
    "def del_time_2(df):\n",
    "    \n",
    "    df = df[(df['fare'] == 'BIL_011') | (df['fare'] =='BIL_012') | (df['fare'] =='BIL_014')\n",
    "     | (df['fare'] =='BIL_015')  | (df['fare'] =='BIL_016')  | (df['fare'] =='BIL_017') ]\n",
    "    \n",
    "    #2시간권 > 6시간 이상 도난/분실 간주\n",
    "    index=df[(df['travel_time']<60) | (df['travel_time']>21600) ].index\n",
    "    return df.drop(index)"
   ]
  },
  {
   "cell_type": "code",
   "execution_count": 14,
   "metadata": {},
   "outputs": [],
   "source": [
    "df19 = pd.concat([del_time_1(df19), del_time_2(df19)], axis = 0)\n",
    "df20 = pd.concat([del_time_1(df20), del_time_2(df20)], axis = 0)"
   ]
  },
  {
   "cell_type": "markdown",
   "metadata": {},
   "source": [
    "#### 공휴일&주말 / 주중으로 데이터 분리"
   ]
  },
  {
   "cell_type": "code",
   "execution_count": 15,
   "metadata": {},
   "outputs": [],
   "source": [
    "def hol_wek_19(df19):\n",
    "    # 2019년 공휴일 따로 분리\n",
    "    df19_hol = df19[((df19['month']==1) & (df19['day']==1)) | ((df19['month']==2) & (df19['day']==4))\n",
    "                | ((df19['month']==2) & (df19['day']==5)) | ((df19['month']==2) & (df19['day']==6))\n",
    "                | ((df19['month']==3) & (df19['day']==1)) | ((df19['month']==6) & (df19['day']==6))\n",
    "                | ((df19['month']==8) & (df19['day']==15)) | ((df19['month']==9) & (df19['day']==12))\n",
    "                | ((df19['month']==9) & (df19['day']==13)) | ((df19['month']==10) & (df19['day']==3))\n",
    "                | ((df19['month']==10) & (df19['day']==9)) | ((df19['month']==12) & (df19['day']==25)) | (df19['weekday']>=5)]\n",
    "    \n",
    "    df19_wek = df19.drop(df19_hol.index)\n",
    "    \n",
    "    return df19_hol, df19_wek\n",
    "\n",
    "def hol_wek_20(df20):\n",
    "    # 2020년 공휴일 따로 분리\n",
    "    df20_hol = df20[((df20['month']==1) & (df20['day']==1)) | ((df20['month']==1) & (df20['day']==24)) \n",
    "     | ((df20['month']==1) & (df20['day']==27)) | ((df20['month']==4) & (df20['day']==30)) \n",
    "     | ((df20['month']==5) & (df20['day']==5)) | ((df20['month']==8) & (df20['day']==17)) \n",
    "     | ((df20['month']==9) & (df20['day']==30)) | ((df20['month']==10) & (df20['day']==1)) \n",
    "     | ((df20['month']==10) & (df20['day']==2)) | ((df20['month']==10) & (df20['day']==9)) \n",
    "     | ((df20['month']==12) & (df20['day']==25)) | (df20['weekday']>=5)]\n",
    "    \n",
    "    df20_wek = df20.drop(df20_hol.index)\n",
    "    \n",
    "    return df20_hol, df20_wek"
   ]
  },
  {
   "cell_type": "code",
   "execution_count": 16,
   "metadata": {},
   "outputs": [],
   "source": [
    "df19_hol, df19_wek = hol_wek_19(df19)\n",
    "df20_hol, df20_wek = hol_wek_20(df20)"
   ]
  },
  {
   "cell_type": "code",
   "execution_count": 12,
   "metadata": {},
   "outputs": [],
   "source": [
    "# df19_hol.to_csv('../data/seoul/df19_hol.csv',index=None)\n",
    "# df19_wek.to_csv('../data/seoul/df19_wek.csv',index=None)\n",
    "\n",
    "# df20_hol.to_csv('../data/seoul/df20_hol.csv',index=None)\n",
    "# df20_wek.to_csv('../data/seoul/df20_wek.csv',index=None)"
   ]
  },
  {
   "cell_type": "markdown",
   "metadata": {},
   "source": [
    "이용량"
   ]
  },
  {
   "cell_type": "code",
   "execution_count": 3,
   "metadata": {},
   "outputs": [
    {
     "data": {
      "text/plain": [
       "([<matplotlib.axis.XTick at 0x195a0824ca0>,\n",
       "  <matplotlib.axis.XTick at 0x195a0824c70>],\n",
       " [Text(0, 0, '19'), Text(1, 0, '20')])"
      ]
     },
     "execution_count": 3,
     "metadata": {},
     "output_type": "execute_result"
    },
    {
     "data": {
      "image/png": "[encoded data removed]",
      "text/plain": [
       "<Figure size 432x288 with 1 Axes>"
      ]
     },
     "metadata": {
      "needs_background": "light"
     },
     "output_type": "display_data"
    }
   ],
   "source": [
    "usage19 = len(df19_hol) + len(df19_wek)\n",
    "usage20 = len(df20_hol) + len(df20_wek)\n",
    "plt.bar(np.arange(2),[usage19,usage20])\n",
    "plt.xticks(np.arange(2),['19','20'])"
   ]
  },
  {
   "cell_type": "markdown",
   "metadata": {},
   "source": [
    "연도별로 나눠서 월별 이용량"
   ]
  },
  {
   "cell_type": "markdown",
   "metadata": {},
   "source": [
    "## 히트맵 그려보기\n",
    "#### 19 20년 비교"
   ]
  },
  {
   "cell_type": "code",
   "execution_count": 4,
   "metadata": {},
   "outputs": [],
   "source": [
    "#비율 계산 함수\n",
    "def Fare_valueRatio(df,a):\n",
    "    return pd.DataFrame(df[a].value_counts()).sort_index()/len(df)"
   ]
  },
  {
   "cell_type": "code",
   "execution_count": 5,
   "metadata": {},
   "outputs": [],
   "source": [
    "month7 = []\n",
    "for i in range(1,13):\n",
    "    for j in range(7):\n",
    "        month7.append(i)\n",
    "weekday12 = [x for x in range(1,8)]*12"
   ]
  },
  {
   "cell_type": "code",
   "execution_count": 11,
   "metadata": {},
   "outputs": [],
   "source": [
    "df19_gb = df19.groupby(['month','weekday']).size()"
   ]
  },
  {
   "cell_type": "code",
   "execution_count": 12,
   "metadata": {
    "scrolled": false
   },
   "outputs": [
    {
     "data": {
      "text/html": [
       "<div>\n",
       "<style scoped>\n",
       "    .dataframe tbody tr th:only-of-type {\n",
       "        vertical-align: middle;\n",
       "    }\n",
       "\n",
       "    .dataframe tbody tr th {\n",
       "        vertical-align: top;\n",
       "    }\n",
       "\n",
       "    .dataframe thead th {\n",
       "        text-align: right;\n",
       "    }\n",
       "</style>\n",
       "<table border=\"1\" class=\"dataframe\">\n",
       "  <thead>\n",
       "    <tr style=\"text-align: right;\">\n",
       "      <th>month</th>\n",
       "      <th>1</th>\n",
       "      <th>2</th>\n",
       "      <th>3</th>\n",
       "      <th>4</th>\n",
       "      <th>5</th>\n",
       "      <th>6</th>\n",
       "      <th>7</th>\n",
       "      <th>8</th>\n",
       "      <th>9</th>\n",
       "      <th>10</th>\n",
       "      <th>11</th>\n",
       "      <th>12</th>\n",
       "    </tr>\n",
       "  </thead>\n",
       "  <tbody>\n",
       "    <tr>\n",
       "      <th>Mon</th>\n",
       "      <td>65596</td>\n",
       "      <td>67971</td>\n",
       "      <td>124765</td>\n",
       "      <td>269341</td>\n",
       "      <td>240432</td>\n",
       "      <td>316651</td>\n",
       "      <td>394970</td>\n",
       "      <td>255177</td>\n",
       "      <td>425008</td>\n",
       "      <td>250129</td>\n",
       "      <td>215638</td>\n",
       "      <td>160584</td>\n",
       "    </tr>\n",
       "    <tr>\n",
       "      <th>Tue</th>\n",
       "      <td>77823</td>\n",
       "      <td>66606</td>\n",
       "      <td>130688</td>\n",
       "      <td>253034</td>\n",
       "      <td>308899</td>\n",
       "      <td>295647</td>\n",
       "      <td>419723</td>\n",
       "      <td>291479</td>\n",
       "      <td>275438</td>\n",
       "      <td>410064</td>\n",
       "      <td>237086</td>\n",
       "      <td>142570</td>\n",
       "    </tr>\n",
       "    <tr>\n",
       "      <th>Wed</th>\n",
       "      <td>85169</td>\n",
       "      <td>79272</td>\n",
       "      <td>105094</td>\n",
       "      <td>185591</td>\n",
       "      <td>381502</td>\n",
       "      <td>321539</td>\n",
       "      <td>304385</td>\n",
       "      <td>258111</td>\n",
       "      <td>283205</td>\n",
       "      <td>356788</td>\n",
       "      <td>200212</td>\n",
       "      <td>128306</td>\n",
       "    </tr>\n",
       "    <tr>\n",
       "      <th>Thur</th>\n",
       "      <td>89095</td>\n",
       "      <td>81450</td>\n",
       "      <td>126173</td>\n",
       "      <td>167470</td>\n",
       "      <td>366663</td>\n",
       "      <td>281339</td>\n",
       "      <td>267970</td>\n",
       "      <td>304823</td>\n",
       "      <td>246045</td>\n",
       "      <td>402726</td>\n",
       "      <td>205377</td>\n",
       "      <td>119600</td>\n",
       "    </tr>\n",
       "    <tr>\n",
       "      <th>Fri</th>\n",
       "      <td>72943</td>\n",
       "      <td>62837</td>\n",
       "      <td>149512</td>\n",
       "      <td>185196</td>\n",
       "      <td>381937</td>\n",
       "      <td>293417</td>\n",
       "      <td>274546</td>\n",
       "      <td>373097</td>\n",
       "      <td>255089</td>\n",
       "      <td>355419</td>\n",
       "      <td>255911</td>\n",
       "      <td>121223</td>\n",
       "    </tr>\n",
       "    <tr>\n",
       "      <th>Sat</th>\n",
       "      <td>54089</td>\n",
       "      <td>60632</td>\n",
       "      <td>113806</td>\n",
       "      <td>192255</td>\n",
       "      <td>287727</td>\n",
       "      <td>376559</td>\n",
       "      <td>252333</td>\n",
       "      <td>341563</td>\n",
       "      <td>218376</td>\n",
       "      <td>313997</td>\n",
       "      <td>260656</td>\n",
       "      <td>95168</td>\n",
       "    </tr>\n",
       "    <tr>\n",
       "      <th>Sun</th>\n",
       "      <td>45539</td>\n",
       "      <td>45847</td>\n",
       "      <td>140407</td>\n",
       "      <td>186099</td>\n",
       "      <td>218122</td>\n",
       "      <td>361208</td>\n",
       "      <td>212576</td>\n",
       "      <td>236401</td>\n",
       "      <td>339866</td>\n",
       "      <td>302589</td>\n",
       "      <td>139807</td>\n",
       "      <td>102971</td>\n",
       "    </tr>\n",
       "  </tbody>\n",
       "</table>\n",
       "</div>"
      ],
      "text/plain": [
       "month     1      2       3       4       5       6       7       8       9   \\\n",
       "Mon    65596  67971  124765  269341  240432  316651  394970  255177  425008   \n",
       "Tue    77823  66606  130688  253034  308899  295647  419723  291479  275438   \n",
       "Wed    85169  79272  105094  185591  381502  321539  304385  258111  283205   \n",
       "Thur   89095  81450  126173  167470  366663  281339  267970  304823  246045   \n",
       "Fri    72943  62837  149512  185196  381937  293417  274546  373097  255089   \n",
       "Sat    54089  60632  113806  192255  287727  376559  252333  341563  218376   \n",
       "Sun    45539  45847  140407  186099  218122  361208  212576  236401  339866   \n",
       "\n",
       "month      10      11      12  \n",
       "Mon    250129  215638  160584  \n",
       "Tue    410064  237086  142570  \n",
       "Wed    356788  200212  128306  \n",
       "Thur   402726  205377  119600  \n",
       "Fri    355419  255911  121223  \n",
       "Sat    313997  260656   95168  \n",
       "Sun    302589  139807  102971  "
      ]
     },
     "execution_count": 12,
     "metadata": {},
     "output_type": "execute_result"
    }
   ],
   "source": [
    "df19_gbdf = pd.DataFrame({'month': month7,\n",
    "                             'weekday': weekday12,\n",
    "                             'count':list(df19_gb)})\n",
    "df19_pivot = df19_gbdf.pivot('weekday', 'month', 'count')\n",
    "df19_pivot.index = ['Mon','Tue','Wed','Thur','Fri','Sat','Sun']\n",
    "df19_pivot"
   ]
  },
  {
   "cell_type": "code",
   "execution_count": 13,
   "metadata": {},
   "outputs": [],
   "source": [
    "df20_gb = df20.groupby(['month','weekday']).size()"
   ]
  },
  {
   "cell_type": "code",
   "execution_count": 14,
   "metadata": {},
   "outputs": [
    {
     "data": {
      "text/html": [
       "<div>\n",
       "<style scoped>\n",
       "    .dataframe tbody tr th:only-of-type {\n",
       "        vertical-align: middle;\n",
       "    }\n",
       "\n",
       "    .dataframe tbody tr th {\n",
       "        vertical-align: top;\n",
       "    }\n",
       "\n",
       "    .dataframe thead th {\n",
       "        text-align: right;\n",
       "    }\n",
       "</style>\n",
       "<table border=\"1\" class=\"dataframe\">\n",
       "  <thead>\n",
       "    <tr style=\"text-align: right;\">\n",
       "      <th>month</th>\n",
       "      <th>1</th>\n",
       "      <th>2</th>\n",
       "      <th>3</th>\n",
       "      <th>4</th>\n",
       "      <th>5</th>\n",
       "      <th>6</th>\n",
       "      <th>7</th>\n",
       "      <th>8</th>\n",
       "      <th>9</th>\n",
       "      <th>10</th>\n",
       "      <th>11</th>\n",
       "      <th>12</th>\n",
       "    </tr>\n",
       "  </thead>\n",
       "  <tbody>\n",
       "    <tr>\n",
       "      <th>Mon</th>\n",
       "      <td>86479</td>\n",
       "      <td>111900</td>\n",
       "      <td>259354</td>\n",
       "      <td>274574</td>\n",
       "      <td>294112</td>\n",
       "      <td>474045</td>\n",
       "      <td>233775</td>\n",
       "      <td>287936</td>\n",
       "      <td>321670</td>\n",
       "      <td>374359</td>\n",
       "      <td>352640</td>\n",
       "      <td>159977</td>\n",
       "    </tr>\n",
       "    <tr>\n",
       "      <th>Tue</th>\n",
       "      <td>91981</td>\n",
       "      <td>97790</td>\n",
       "      <td>236736</td>\n",
       "      <td>297543</td>\n",
       "      <td>284819</td>\n",
       "      <td>424247</td>\n",
       "      <td>340569</td>\n",
       "      <td>266809</td>\n",
       "      <td>523270</td>\n",
       "      <td>387282</td>\n",
       "      <td>291322</td>\n",
       "      <td>205424</td>\n",
       "    </tr>\n",
       "    <tr>\n",
       "      <th>Wed</th>\n",
       "      <td>135281</td>\n",
       "      <td>97934</td>\n",
       "      <td>207518</td>\n",
       "      <td>365402</td>\n",
       "      <td>362702</td>\n",
       "      <td>285744</td>\n",
       "      <td>390663</td>\n",
       "      <td>228765</td>\n",
       "      <td>355233</td>\n",
       "      <td>383481</td>\n",
       "      <td>267307</td>\n",
       "      <td>196009</td>\n",
       "    </tr>\n",
       "    <tr>\n",
       "      <th>Thur</th>\n",
       "      <td>157152</td>\n",
       "      <td>129164</td>\n",
       "      <td>154510</td>\n",
       "      <td>382000</td>\n",
       "      <td>368230</td>\n",
       "      <td>349767</td>\n",
       "      <td>410821</td>\n",
       "      <td>245543</td>\n",
       "      <td>394899</td>\n",
       "      <td>457280</td>\n",
       "      <td>269174</td>\n",
       "      <td>200418</td>\n",
       "    </tr>\n",
       "    <tr>\n",
       "      <th>Fri</th>\n",
       "      <td>142916</td>\n",
       "      <td>108418</td>\n",
       "      <td>194221</td>\n",
       "      <td>253062</td>\n",
       "      <td>356928</td>\n",
       "      <td>415611</td>\n",
       "      <td>459515</td>\n",
       "      <td>287647</td>\n",
       "      <td>403073</td>\n",
       "      <td>446014</td>\n",
       "      <td>297490</td>\n",
       "      <td>160977</td>\n",
       "    </tr>\n",
       "    <tr>\n",
       "      <th>Sat</th>\n",
       "      <td>87004</td>\n",
       "      <td>129794</td>\n",
       "      <td>206101</td>\n",
       "      <td>303353</td>\n",
       "      <td>356981</td>\n",
       "      <td>394087</td>\n",
       "      <td>393613</td>\n",
       "      <td>172231</td>\n",
       "      <td>381433</td>\n",
       "      <td>454151</td>\n",
       "      <td>259423</td>\n",
       "      <td>143721</td>\n",
       "    </tr>\n",
       "    <tr>\n",
       "      <th>Sun</th>\n",
       "      <td>81392</td>\n",
       "      <td>73781</td>\n",
       "      <td>235028</td>\n",
       "      <td>231108</td>\n",
       "      <td>405747</td>\n",
       "      <td>380537</td>\n",
       "      <td>309574</td>\n",
       "      <td>218353</td>\n",
       "      <td>382682</td>\n",
       "      <td>343469</td>\n",
       "      <td>227053</td>\n",
       "      <td>113154</td>\n",
       "    </tr>\n",
       "  </tbody>\n",
       "</table>\n",
       "</div>"
      ],
      "text/plain": [
       "month      1       2       3       4       5       6       7       8       9   \\\n",
       "Mon     86479  111900  259354  274574  294112  474045  233775  287936  321670   \n",
       "Tue     91981   97790  236736  297543  284819  424247  340569  266809  523270   \n",
       "Wed    135281   97934  207518  365402  362702  285744  390663  228765  355233   \n",
       "Thur   157152  129164  154510  382000  368230  349767  410821  245543  394899   \n",
       "Fri    142916  108418  194221  253062  356928  415611  459515  287647  403073   \n",
       "Sat     87004  129794  206101  303353  356981  394087  393613  172231  381433   \n",
       "Sun     81392   73781  235028  231108  405747  380537  309574  218353  382682   \n",
       "\n",
       "month      10      11      12  \n",
       "Mon    374359  352640  159977  \n",
       "Tue    387282  291322  205424  \n",
       "Wed    383481  267307  196009  \n",
       "Thur   457280  269174  200418  \n",
       "Fri    446014  297490  160977  \n",
       "Sat    454151  259423  143721  \n",
       "Sun    343469  227053  113154  "
      ]
     },
     "execution_count": 14,
     "metadata": {},
     "output_type": "execute_result"
    }
   ],
   "source": [
    "df20_gbdf = pd.DataFrame({'month': month7,\n",
    "                             'weekday': weekday12,\n",
    "                             'count':list(df20_gb)})\n",
    "df20_pivot = df20_gbdf.pivot('weekday', 'month', 'count')\n",
    "df20_pivot.index = ['Mon','Tue','Wed','Thur','Fri','Sat','Sun']\n",
    "df20_pivot"
   ]
  },
  {
   "cell_type": "code",
   "execution_count": 17,
   "metadata": {},
   "outputs": [
    {
     "data": {
      "text/plain": [
       "Text(0.5, 0, 'Month')"
      ]
     },
     "execution_count": 17,
     "metadata": {},
     "output_type": "execute_result"
    },
    {
     "data": {
      "image/png": "[encoded data removed]",
      "text/plain": [
       "<Figure size 493.714x288 with 2 Axes>"
      ]
     },
     "metadata": {
      "needs_background": "light"
     },
     "output_type": "display_data"
    }
   ],
   "source": [
    "cmap = plt.get_cmap('Blues')\n",
    "\n",
    "plt.matshow(df19_pivot, cmap=cmap)\n",
    "plt.colorbar(shrink=0.8, aspect=10)\n",
    "plt.xticks(np.arange(0,12),np.arange(1,13,1))\n",
    "plt.yticks(np.arange(0,7),['MON','TUE','WED','THU','FRI','SAT','SUN'])\n",
    "plt.xlabel('Month', labelpad = 15, fontdict = {'size' : 15})\n",
    "\n",
    "\n",
    "# plt.clim(0,13000)"
   ]
  },
  {
   "cell_type": "code",
   "execution_count": 18,
   "metadata": {},
   "outputs": [
    {
     "data": {
      "text/plain": [
       "Text(0.5, 0, 'Month')"
      ]
     },
     "execution_count": 18,
     "metadata": {},
     "output_type": "execute_result"
    },
    {
     "data": {
      "image/png": "[encoded data removed]",
      "text/plain": [
       "<Figure size 493.714x288 with 2 Axes>"
      ]
     },
     "metadata": {
      "needs_background": "light"
     },
     "output_type": "display_data"
    }
   ],
   "source": [
    "plt.matshow(df20_pivot, cmap=cmap)\n",
    "plt.colorbar(shrink=0.8, aspect=10)\n",
    "plt.xticks(np.arange(0,12),np.arange(1,13,1))\n",
    "plt.yticks(np.arange(0,7),['MON','TUE','WED','THU','FRI','SAT','SUN'])\n",
    "plt.xlabel('Month', labelpad = 15, fontdict = {'size' : 15})\n",
    "\n",
    "\n",
    "# plt.clim(50000,500000)"
   ]
  },
  {
   "cell_type": "code",
   "execution_count": 22,
   "metadata": {},
   "outputs": [],
   "source": [
    "# df19_pivot.to_csv('../data/seoul/df19_pivot.csv')\n",
    "# df20_pivot.to_csv('../data/seoul/df20_pivot.csv')"
   ]
  },
  {
   "cell_type": "markdown",
   "metadata": {},
   "source": [
    "------------------------------------"
   ]
  },
  {
   "cell_type": "markdown",
   "metadata": {},
   "source": [
    "#### 시간별 대여량 비교(비율로 계산)\t"
   ]
  },
  {
   "cell_type": "code",
   "execution_count": 26,
   "metadata": {},
   "outputs": [],
   "source": [
    "hour_index=np.arange(0,24,1)\n",
    "\n",
    "df19_hour = Fare_valueRatio(df19,'hour')\n",
    "df20_hour = Fare_valueRatio(df20,'hour')\n",
    "\n",
    "df19_hol_hour = Fare_valueRatio(df19_hol,'hour')\n",
    "df20_hol_hour = Fare_valueRatio(df20_hol,'hour')\n",
    "\n",
    "df19_wek_hour = Fare_valueRatio(df19_wek,'hour')\n",
    "df20_wek_hour = Fare_valueRatio(df20_wek,'hour')"
   ]
  },
  {
   "cell_type": "code",
   "execution_count": 27,
   "metadata": {},
   "outputs": [],
   "source": [
    "df_hour = pd.concat([df19_hour,df20_hour,df19_hol_hour,df20_hol_hour,df19_wek_hour,df20_wek_hour],axis=1)\n",
    "df_hour.columns = ['19_all','20_all','19_hol','20_hol','19_wek','20_wek']"
   ]
  },
  {
   "cell_type": "code",
   "execution_count": 28,
   "metadata": {},
   "outputs": [
    {
     "data": {
      "text/html": [
       "<div>\n",
       "<style scoped>\n",
       "    .dataframe tbody tr th:only-of-type {\n",
       "        vertical-align: middle;\n",
       "    }\n",
       "\n",
       "    .dataframe tbody tr th {\n",
       "        vertical-align: top;\n",
       "    }\n",
       "\n",
       "    .dataframe thead th {\n",
       "        text-align: right;\n",
       "    }\n",
       "</style>\n",
       "<table border=\"1\" class=\"dataframe\">\n",
       "  <thead>\n",
       "    <tr style=\"text-align: right;\">\n",
       "      <th></th>\n",
       "      <th>19_all</th>\n",
       "      <th>20_all</th>\n",
       "      <th>19_hol</th>\n",
       "      <th>20_hol</th>\n",
       "      <th>19_wek</th>\n",
       "      <th>20_wek</th>\n",
       "    </tr>\n",
       "  </thead>\n",
       "  <tbody>\n",
       "    <tr>\n",
       "      <th>0</th>\n",
       "      <td>0.032691</td>\n",
       "      <td>0.027945</td>\n",
       "      <td>0.041529</td>\n",
       "      <td>0.033782</td>\n",
       "      <td>0.029212</td>\n",
       "      <td>0.025467</td>\n",
       "    </tr>\n",
       "    <tr>\n",
       "      <th>1</th>\n",
       "      <td>0.026661</td>\n",
       "      <td>0.021372</td>\n",
       "      <td>0.034585</td>\n",
       "      <td>0.026460</td>\n",
       "      <td>0.023541</td>\n",
       "      <td>0.019212</td>\n",
       "    </tr>\n",
       "    <tr>\n",
       "      <th>2</th>\n",
       "      <td>0.018829</td>\n",
       "      <td>0.014660</td>\n",
       "      <td>0.025920</td>\n",
       "      <td>0.018848</td>\n",
       "      <td>0.016037</td>\n",
       "      <td>0.012883</td>\n",
       "    </tr>\n",
       "    <tr>\n",
       "      <th>3</th>\n",
       "      <td>0.012936</td>\n",
       "      <td>0.010033</td>\n",
       "      <td>0.018833</td>\n",
       "      <td>0.013128</td>\n",
       "      <td>0.010615</td>\n",
       "      <td>0.008720</td>\n",
       "    </tr>\n",
       "    <tr>\n",
       "      <th>4</th>\n",
       "      <td>0.008023</td>\n",
       "      <td>0.006822</td>\n",
       "      <td>0.010984</td>\n",
       "      <td>0.008395</td>\n",
       "      <td>0.006857</td>\n",
       "      <td>0.006155</td>\n",
       "    </tr>\n",
       "    <tr>\n",
       "      <th>5</th>\n",
       "      <td>0.007715</td>\n",
       "      <td>0.007126</td>\n",
       "      <td>0.007455</td>\n",
       "      <td>0.006520</td>\n",
       "      <td>0.007817</td>\n",
       "      <td>0.007383</td>\n",
       "    </tr>\n",
       "    <tr>\n",
       "      <th>6</th>\n",
       "      <td>0.014430</td>\n",
       "      <td>0.013743</td>\n",
       "      <td>0.008825</td>\n",
       "      <td>0.008374</td>\n",
       "      <td>0.016636</td>\n",
       "      <td>0.016021</td>\n",
       "    </tr>\n",
       "    <tr>\n",
       "      <th>7</th>\n",
       "      <td>0.034751</td>\n",
       "      <td>0.032719</td>\n",
       "      <td>0.013539</td>\n",
       "      <td>0.013623</td>\n",
       "      <td>0.043102</td>\n",
       "      <td>0.040824</td>\n",
       "    </tr>\n",
       "    <tr>\n",
       "      <th>8</th>\n",
       "      <td>0.061323</td>\n",
       "      <td>0.053437</td>\n",
       "      <td>0.022473</td>\n",
       "      <td>0.022221</td>\n",
       "      <td>0.076618</td>\n",
       "      <td>0.066686</td>\n",
       "    </tr>\n",
       "    <tr>\n",
       "      <th>9</th>\n",
       "      <td>0.035500</td>\n",
       "      <td>0.033840</td>\n",
       "      <td>0.027537</td>\n",
       "      <td>0.028669</td>\n",
       "      <td>0.038635</td>\n",
       "      <td>0.036035</td>\n",
       "    </tr>\n",
       "    <tr>\n",
       "      <th>10</th>\n",
       "      <td>0.028007</td>\n",
       "      <td>0.029420</td>\n",
       "      <td>0.030600</td>\n",
       "      <td>0.034817</td>\n",
       "      <td>0.026986</td>\n",
       "      <td>0.027129</td>\n",
       "    </tr>\n",
       "    <tr>\n",
       "      <th>11</th>\n",
       "      <td>0.032498</td>\n",
       "      <td>0.035605</td>\n",
       "      <td>0.036482</td>\n",
       "      <td>0.041659</td>\n",
       "      <td>0.030929</td>\n",
       "      <td>0.033036</td>\n",
       "    </tr>\n",
       "    <tr>\n",
       "      <th>12</th>\n",
       "      <td>0.037673</td>\n",
       "      <td>0.041948</td>\n",
       "      <td>0.044588</td>\n",
       "      <td>0.050334</td>\n",
       "      <td>0.034950</td>\n",
       "      <td>0.038389</td>\n",
       "    </tr>\n",
       "    <tr>\n",
       "      <th>13</th>\n",
       "      <td>0.039676</td>\n",
       "      <td>0.045779</td>\n",
       "      <td>0.051364</td>\n",
       "      <td>0.059085</td>\n",
       "      <td>0.035074</td>\n",
       "      <td>0.040132</td>\n",
       "    </tr>\n",
       "    <tr>\n",
       "      <th>14</th>\n",
       "      <td>0.042536</td>\n",
       "      <td>0.050398</td>\n",
       "      <td>0.056978</td>\n",
       "      <td>0.066577</td>\n",
       "      <td>0.036850</td>\n",
       "      <td>0.043530</td>\n",
       "    </tr>\n",
       "    <tr>\n",
       "      <th>15</th>\n",
       "      <td>0.047332</td>\n",
       "      <td>0.056145</td>\n",
       "      <td>0.063790</td>\n",
       "      <td>0.072618</td>\n",
       "      <td>0.040853</td>\n",
       "      <td>0.049153</td>\n",
       "    </tr>\n",
       "    <tr>\n",
       "      <th>16</th>\n",
       "      <td>0.055361</td>\n",
       "      <td>0.064108</td>\n",
       "      <td>0.069281</td>\n",
       "      <td>0.076147</td>\n",
       "      <td>0.049881</td>\n",
       "      <td>0.058998</td>\n",
       "    </tr>\n",
       "    <tr>\n",
       "      <th>17</th>\n",
       "      <td>0.071742</td>\n",
       "      <td>0.082043</td>\n",
       "      <td>0.072827</td>\n",
       "      <td>0.076936</td>\n",
       "      <td>0.071314</td>\n",
       "      <td>0.084210</td>\n",
       "    </tr>\n",
       "    <tr>\n",
       "      <th>18</th>\n",
       "      <td>0.098307</td>\n",
       "      <td>0.095652</td>\n",
       "      <td>0.070855</td>\n",
       "      <td>0.071641</td>\n",
       "      <td>0.109115</td>\n",
       "      <td>0.105842</td>\n",
       "    </tr>\n",
       "    <tr>\n",
       "      <th>19</th>\n",
       "      <td>0.072253</td>\n",
       "      <td>0.071822</td>\n",
       "      <td>0.066178</td>\n",
       "      <td>0.065269</td>\n",
       "      <td>0.074645</td>\n",
       "      <td>0.074603</td>\n",
       "    </tr>\n",
       "    <tr>\n",
       "      <th>20</th>\n",
       "      <td>0.064454</td>\n",
       "      <td>0.063507</td>\n",
       "      <td>0.064900</td>\n",
       "      <td>0.062573</td>\n",
       "      <td>0.064278</td>\n",
       "      <td>0.063903</td>\n",
       "    </tr>\n",
       "    <tr>\n",
       "      <th>21</th>\n",
       "      <td>0.062087</td>\n",
       "      <td>0.058686</td>\n",
       "      <td>0.063135</td>\n",
       "      <td>0.058493</td>\n",
       "      <td>0.061674</td>\n",
       "      <td>0.058768</td>\n",
       "    </tr>\n",
       "    <tr>\n",
       "      <th>22</th>\n",
       "      <td>0.055638</td>\n",
       "      <td>0.048702</td>\n",
       "      <td>0.055315</td>\n",
       "      <td>0.048350</td>\n",
       "      <td>0.055765</td>\n",
       "      <td>0.048851</td>\n",
       "    </tr>\n",
       "    <tr>\n",
       "      <th>23</th>\n",
       "      <td>0.039580</td>\n",
       "      <td>0.034489</td>\n",
       "      <td>0.042029</td>\n",
       "      <td>0.035481</td>\n",
       "      <td>0.038615</td>\n",
       "      <td>0.034068</td>\n",
       "    </tr>\n",
       "  </tbody>\n",
       "</table>\n",
       "</div>"
      ],
      "text/plain": [
       "      19_all    20_all    19_hol    20_hol    19_wek    20_wek\n",
       "0   0.032691  0.027945  0.041529  0.033782  0.029212  0.025467\n",
       "1   0.026661  0.021372  0.034585  0.026460  0.023541  0.019212\n",
       "2   0.018829  0.014660  0.025920  0.018848  0.016037  0.012883\n",
       "3   0.012936  0.010033  0.018833  0.013128  0.010615  0.008720\n",
       "4   0.008023  0.006822  0.010984  0.008395  0.006857  0.006155\n",
       "5   0.007715  0.007126  0.007455  0.006520  0.007817  0.007383\n",
       "6   0.014430  0.013743  0.008825  0.008374  0.016636  0.016021\n",
       "7   0.034751  0.032719  0.013539  0.013623  0.043102  0.040824\n",
       "8   0.061323  0.053437  0.022473  0.022221  0.076618  0.066686\n",
       "9   0.035500  0.033840  0.027537  0.028669  0.038635  0.036035\n",
       "10  0.028007  0.029420  0.030600  0.034817  0.026986  0.027129\n",
       "11  0.032498  0.035605  0.036482  0.041659  0.030929  0.033036\n",
       "12  0.037673  0.041948  0.044588  0.050334  0.034950  0.038389\n",
       "13  0.039676  0.045779  0.051364  0.059085  0.035074  0.040132\n",
       "14  0.042536  0.050398  0.056978  0.066577  0.036850  0.043530\n",
       "15  0.047332  0.056145  0.063790  0.072618  0.040853  0.049153\n",
       "16  0.055361  0.064108  0.069281  0.076147  0.049881  0.058998\n",
       "17  0.071742  0.082043  0.072827  0.076936  0.071314  0.084210\n",
       "18  0.098307  0.095652  0.070855  0.071641  0.109115  0.105842\n",
       "19  0.072253  0.071822  0.066178  0.065269  0.074645  0.074603\n",
       "20  0.064454  0.063507  0.064900  0.062573  0.064278  0.063903\n",
       "21  0.062087  0.058686  0.063135  0.058493  0.061674  0.058768\n",
       "22  0.055638  0.048702  0.055315  0.048350  0.055765  0.048851\n",
       "23  0.039580  0.034489  0.042029  0.035481  0.038615  0.034068"
      ]
     },
     "execution_count": 28,
     "metadata": {},
     "output_type": "execute_result"
    }
   ],
   "source": [
    "df_hour"
   ]
  },
  {
   "cell_type": "code",
   "execution_count": 29,
   "metadata": {},
   "outputs": [],
   "source": [
    "df_hour.to_csv('../data/seoul/df_hour.csv')"
   ]
  },
  {
   "cell_type": "code",
   "execution_count": 5,
   "metadata": {},
   "outputs": [],
   "source": [
    "# 축 크기 설정\n",
    "parameters = {'axes.labelsize': 13,\n",
    "              'xtick.labelsize' : 13,\n",
    "              'ytick.labelsize' : 13,\n",
    "          'legend.fontsize': 12}\n",
    "plt.rcParams.update(parameters)"
   ]
  },
  {
   "cell_type": "code",
   "execution_count": 6,
   "metadata": {},
   "outputs": [],
   "source": [
    "hour_xname = [str(x) + 'AM' if x%4 == 0 else '' for x in range(12)] + ['12PM']+ [str(x) + 'PM' if x%4 == 0 else '' for x in range(1,12)]"
   ]
  },
  {
   "cell_type": "code",
   "execution_count": 7,
   "metadata": {},
   "outputs": [],
   "source": [
    "hour_index=np.arange(0,24,1)"
   ]
  },
  {
   "cell_type": "code",
   "execution_count": 8,
   "metadata": {},
   "outputs": [
    {
     "data": {
      "text/plain": [
       "<matplotlib.legend.Legend at 0x245c150e4c0>"
      ]
     },
     "execution_count": 8,
     "metadata": {},
     "output_type": "execute_result"
    },
    {
     "data": {
      "image/png": "[encoded data removed]",
      "text/plain": [
       "<Figure size 432x288 with 1 Axes>"
      ]
     },
     "metadata": {
      "needs_background": "light"
     },
     "output_type": "display_data"
    }
   ],
   "source": [
    "plt.plot(hour_index,df_hour['19_all'], label='2019')\n",
    "plt.plot(hour_index,df_hour['20_all'], label='2020')\n",
    "plt.xticks(hour_index,hour_xname)\n",
    "plt.legend(loc=2)"
   ]
  },
  {
   "cell_type": "code",
   "execution_count": 9,
   "metadata": {},
   "outputs": [
    {
     "data": {
      "text/plain": [
       "<matplotlib.legend.Legend at 0x245c18e4a90>"
      ]
     },
     "execution_count": 9,
     "metadata": {},
     "output_type": "execute_result"
    },
    {
     "data": {
      "image/png": "[encoded data removed]",
      "text/plain": [
       "<Figure size 432x288 with 1 Axes>"
      ]
     },
     "metadata": {
      "needs_background": "light"
     },
     "output_type": "display_data"
    }
   ],
   "source": [
    "plt.plot(hour_index,df_hour['19_hol'], label='2019')\n",
    "plt.plot(hour_index,df_hour['20_hol'], label='2020')\n",
    "plt.xticks(hour_index,hour_xname)\n",
    "plt.legend(loc=2)"
   ]
  },
  {
   "cell_type": "code",
   "execution_count": 10,
   "metadata": {},
   "outputs": [
    {
     "data": {
      "text/plain": [
       "<matplotlib.legend.Legend at 0x245c19947c0>"
      ]
     },
     "execution_count": 10,
     "metadata": {},
     "output_type": "execute_result"
    },
    {
     "data": {
      "image/png": "[encoded data removed]",
      "text/plain": [
       "<Figure size 432x288 with 1 Axes>"
      ]
     },
     "metadata": {
      "needs_background": "light"
     },
     "output_type": "display_data"
    }
   ],
   "source": [
    "plt.plot(hour_index,df_hour['19_wek'], label='2019')\n",
    "plt.plot(hour_index,df_hour['20_wek'], label='2020')\n",
    "plt.xticks(hour_index,hour_xname)\n",
    "# plt.xticks(hour_index)\n",
    "# plt.yticks(np.arange(0,0.12,0.02))\n",
    "plt.legend(loc=2)"
   ]
  },
  {
   "cell_type": "markdown",
   "metadata": {},
   "source": [
    "이용시간\n",
    "* 주중, 주말로 나누어서 나타냄, 10분 단위로 분포 확인"
   ]
  },
  {
   "cell_type": "code",
   "execution_count": 73,
   "metadata": {},
   "outputs": [],
   "source": [
    "def travel_time_scope(x):\n",
    "    if x<10:\n",
    "        return 0\n",
    "    elif x<20:\n",
    "        return 10\n",
    "    elif x<30:\n",
    "        return 20\n",
    "    elif x<40:\n",
    "        return 30\n",
    "    elif x<50:\n",
    "        return 40\n",
    "    elif x<60:\n",
    "        return 50\n",
    "    elif x<70:\n",
    "        return 60\n",
    "    elif x<80:\n",
    "        return 70\n",
    "    elif x<90:\n",
    "        return 80\n",
    "    elif x<100:\n",
    "        return 90\n",
    "    elif x<110:\n",
    "        return 100\n",
    "    else:\n",
    "        return 110"
   ]
  },
  {
   "cell_type": "code",
   "execution_count": 74,
   "metadata": {},
   "outputs": [],
   "source": [
    "th19_hol = (df19_hol['travel_time']/60).apply(travel_time_scope)\n",
    "th20_hol = (df20_hol['travel_time']/60).apply(travel_time_scope)"
   ]
  },
  {
   "cell_type": "code",
   "execution_count": 75,
   "metadata": {},
   "outputs": [],
   "source": [
    "th19_hol = (th19_hol.value_counts()/len(th19_hol)).sort_index()\n",
    "th20_hol = (th20_hol.value_counts()/len(th20_hol)).sort_index()"
   ]
  },
  {
   "cell_type": "code",
   "execution_count": 82,
   "metadata": {},
   "outputs": [
    {
     "data": {
      "text/plain": [
       "<matplotlib.legend.Legend at 0x196713e0b50>"
      ]
     },
     "execution_count": 82,
     "metadata": {},
     "output_type": "execute_result"
    },
    {
     "data": {
      "image/png": "[encoded data removed]",
      "text/plain": [
       "<Figure size 432x288 with 1 Axes>"
      ]
     },
     "metadata": {
      "needs_background": "light"
     },
     "output_type": "display_data"
    }
   ],
   "source": [
    "plt.bar(np.arange(12),th19_hol, alpha=0.8,width=1,label='2019')\n",
    "plt.bar(np.arange(12),th20_hol,alpha=0.4, width=1,label='2020')\n",
    "plt.xticks(np.arange(12),[0,'',20,'',40,'',60,'',80,'',100,''])\n",
    "plt.xlabel('travel time(min)')\n",
    "plt.title('Weekend')\n",
    "plt.legend()"
   ]
  },
  {
   "cell_type": "code",
   "execution_count": 83,
   "metadata": {},
   "outputs": [],
   "source": [
    "th19_wek = (df19_wek['travel_time']/60).apply(travel_time_scope)\n",
    "th20_wek = (df20_wek['travel_time']/60).apply(travel_time_scope)"
   ]
  },
  {
   "cell_type": "code",
   "execution_count": 84,
   "metadata": {},
   "outputs": [],
   "source": [
    "th19_wek = (th19_wek.value_counts()/len(th19_wek)).sort_index()\n",
    "th20_wek = (th20_wek.value_counts()/len(th20_wek)).sort_index()"
   ]
  },
  {
   "cell_type": "code",
   "execution_count": 85,
   "metadata": {},
   "outputs": [
    {
     "data": {
      "text/plain": [
       "<matplotlib.legend.Legend at 0x19671466fd0>"
      ]
     },
     "execution_count": 85,
     "metadata": {},
     "output_type": "execute_result"
    },
    {
     "data": {
      "image/png": "[encoded data removed]",
      "text/plain": [
       "<Figure size 432x288 with 1 Axes>"
      ]
     },
     "metadata": {
      "needs_background": "light"
     },
     "output_type": "display_data"
    }
   ],
   "source": [
    "plt.bar(np.arange(12),th19_wek, alpha=0.8,width=1,label='2019')\n",
    "plt.bar(np.arange(12),th20_wek,alpha=0.4, width=1,label='2020')\n",
    "plt.xticks(np.arange(12),[0,'',20,'',40,'',60,'',80,'',100,''])\n",
    "plt.xlabel('travel time(min)')\n",
    "plt.title('Weekday')\n",
    "plt.legend()"
   ]
  }
 ],
 "metadata": {
  "kernelspec": {
   "display_name": "Python 3",
   "language": "python",
   "name": "python3"
  },
  "language_info": {
   "codemirror_mode": {
    "name": "ipython",
    "version": 3
   },
   "file_extension": ".py",
   "mimetype": "text/x-python",
   "name": "python",
   "nbconvert_exporter": "python",
   "pygments_lexer": "ipython3",
   "version": "3.8.8"
  }
 },
 "nbformat": 4,
 "nbformat_minor": 4
}
